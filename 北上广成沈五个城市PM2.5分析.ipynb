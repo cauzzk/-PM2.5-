{
 "cells": [
  {
   "cell_type": "code",
   "execution_count": 1,
   "id": "bd172439",
   "metadata": {},
   "outputs": [],
   "source": [
    "#导入模块\n",
    "import pandas as pd\n",
    "import numpy as np\n",
    "import matplotlib.pyplot as plt\n",
    "from pyecharts.charts import Map,Geo,Line\n",
    "import pyecharts.options as opts"
   ]
  },
  {
   "cell_type": "markdown",
   "id": "f1bec8e1",
   "metadata": {},
   "source": [
    " # 1.导入五个城市的数据\n"
   ]
  },
  {
   "cell_type": "code",
   "execution_count": 2,
   "id": "2aa0d53a",
   "metadata": {},
   "outputs": [],
   "source": [
    "df_bj = pd.read_csv('北京PM2.5.csv')\n",
    "df_sh = pd.read_csv('上海PM2.5.csv')\n",
    "df_gz = pd.read_csv('广州PM2.5.csv')\n",
    "df_cd = pd.read_csv('成都PM2.5.csv')\n",
    "df_sy = pd.read_csv('沈阳PM2.5.csv')"
   ]
  },
  {
   "cell_type": "code",
   "execution_count": 3,
   "id": "47303770",
   "metadata": {},
   "outputs": [
    {
     "data": {
      "text/html": [
       "<div>\n",
       "<style scoped>\n",
       "    .dataframe tbody tr th:only-of-type {\n",
       "        vertical-align: middle;\n",
       "    }\n",
       "\n",
       "    .dataframe tbody tr th {\n",
       "        vertical-align: top;\n",
       "    }\n",
       "\n",
       "    .dataframe thead th {\n",
       "        text-align: right;\n",
       "    }\n",
       "</style>\n",
       "<table border=\"1\" class=\"dataframe\">\n",
       "  <thead>\n",
       "    <tr style=\"text-align: right;\">\n",
       "      <th></th>\n",
       "      <th>No</th>\n",
       "      <th>year</th>\n",
       "      <th>month</th>\n",
       "      <th>day</th>\n",
       "      <th>hour</th>\n",
       "      <th>season</th>\n",
       "      <th>PM_Dongsi</th>\n",
       "      <th>PM_Dongsihuan</th>\n",
       "      <th>PM_Nongzhanguan</th>\n",
       "      <th>PM_US Post</th>\n",
       "      <th>PM_mean</th>\n",
       "      <th>DEWP</th>\n",
       "      <th>HUMI</th>\n",
       "      <th>PRES</th>\n",
       "      <th>TEMP</th>\n",
       "      <th>cbwd</th>\n",
       "      <th>Iws</th>\n",
       "      <th>precipitation</th>\n",
       "      <th>Iprec</th>\n",
       "    </tr>\n",
       "  </thead>\n",
       "  <tbody>\n",
       "    <tr>\n",
       "      <th>52582</th>\n",
       "      <td>52583</td>\n",
       "      <td>2015</td>\n",
       "      <td>12</td>\n",
       "      <td>31</td>\n",
       "      <td>22</td>\n",
       "      <td>4</td>\n",
       "      <td>204.0</td>\n",
       "      <td>242.0</td>\n",
       "      <td>221.0</td>\n",
       "      <td>212.0</td>\n",
       "      <td>219.75</td>\n",
       "      <td>-10.0</td>\n",
       "      <td>73.0</td>\n",
       "      <td>1030.0</td>\n",
       "      <td>-6.0</td>\n",
       "      <td>NE</td>\n",
       "      <td>1.78</td>\n",
       "      <td>0.0</td>\n",
       "      <td>0.0</td>\n",
       "    </tr>\n",
       "    <tr>\n",
       "      <th>52583</th>\n",
       "      <td>52584</td>\n",
       "      <td>2015</td>\n",
       "      <td>12</td>\n",
       "      <td>31</td>\n",
       "      <td>23</td>\n",
       "      <td>4</td>\n",
       "      <td>NaN</td>\n",
       "      <td>NaN</td>\n",
       "      <td>NaN</td>\n",
       "      <td>235.0</td>\n",
       "      <td>235.00</td>\n",
       "      <td>-9.0</td>\n",
       "      <td>79.0</td>\n",
       "      <td>1029.0</td>\n",
       "      <td>-6.0</td>\n",
       "      <td>NE</td>\n",
       "      <td>2.67</td>\n",
       "      <td>0.0</td>\n",
       "      <td>0.0</td>\n",
       "    </tr>\n",
       "  </tbody>\n",
       "</table>\n",
       "</div>"
      ],
      "text/plain": [
       "          No  year  month  day  hour  season  PM_Dongsi  PM_Dongsihuan  \\\n",
       "52582  52583  2015     12   31    22       4      204.0          242.0   \n",
       "52583  52584  2015     12   31    23       4        NaN            NaN   \n",
       "\n",
       "       PM_Nongzhanguan  PM_US Post  PM_mean  DEWP  HUMI    PRES  TEMP cbwd  \\\n",
       "52582            221.0       212.0   219.75 -10.0  73.0  1030.0  -6.0   NE   \n",
       "52583              NaN       235.0   235.00  -9.0  79.0  1029.0  -6.0   NE   \n",
       "\n",
       "        Iws  precipitation  Iprec  \n",
       "52582  1.78            0.0    0.0  \n",
       "52583  2.67            0.0    0.0  "
      ]
     },
     "execution_count": 3,
     "metadata": {},
     "output_type": "execute_result"
    }
   ],
   "source": [
    "df_bj.tail(2)"
   ]
  },
  {
   "cell_type": "markdown",
   "id": "03a5eafe",
   "metadata": {},
   "source": [
    "## 1.2获取五个城市六年PM2.5的平均值\n",
    "### 1.2.1北京"
   ]
  },
  {
   "cell_type": "code",
   "execution_count": 4,
   "id": "bff43d89",
   "metadata": {},
   "outputs": [
    {
     "data": {
      "text/plain": [
       "Index(['No', 'year', 'month', 'day', 'hour', 'season', 'PM_Dongsi',\n",
       "       'PM_Dongsihuan', 'PM_Nongzhanguan', 'PM_US Post', 'PM_mean', 'DEWP',\n",
       "       'HUMI', 'PRES', 'TEMP', 'cbwd', 'Iws', 'precipitation', 'Iprec'],\n",
       "      dtype='object')"
      ]
     },
     "execution_count": 4,
     "metadata": {},
     "output_type": "execute_result"
    }
   ],
   "source": [
    "df_bj.columns"
   ]
  },
  {
   "cell_type": "code",
   "execution_count": 5,
   "id": "cbefe47c",
   "metadata": {},
   "outputs": [],
   "source": [
    "bj_pm_mean = df_bj.loc[df_bj['PM_mean'].notnull(),['PM_mean']].mean() #为什么'PM_mean'不加[]是float类型，加了是Series类型"
   ]
  },
  {
   "cell_type": "code",
   "execution_count": 6,
   "id": "ac7cf273",
   "metadata": {},
   "outputs": [
    {
     "data": {
      "text/plain": [
       "PM_mean    95.183555\n",
       "dtype: float64"
      ]
     },
     "execution_count": 6,
     "metadata": {},
     "output_type": "execute_result"
    }
   ],
   "source": [
    "bj_pm_mean"
   ]
  },
  {
   "cell_type": "code",
   "execution_count": 7,
   "id": "a93b7e70",
   "metadata": {},
   "outputs": [
    {
     "data": {
      "text/plain": [
       "array([95.18355527])"
      ]
     },
     "execution_count": 7,
     "metadata": {},
     "output_type": "execute_result"
    }
   ],
   "source": [
    "bj_pm_mean.values"
   ]
  },
  {
   "cell_type": "code",
   "execution_count": 8,
   "id": "1be32cbc",
   "metadata": {},
   "outputs": [
    {
     "data": {
      "text/plain": [
       "95.18355527059875"
      ]
     },
     "execution_count": 8,
     "metadata": {},
     "output_type": "execute_result"
    }
   ],
   "source": [
    "bj_2 = df_bj.PM_mean.mean()\n",
    "bj_2"
   ]
  },
  {
   "cell_type": "markdown",
   "id": "c44fc142",
   "metadata": {},
   "source": [
    "### 1.2.2上海"
   ]
  },
  {
   "cell_type": "code",
   "execution_count": 9,
   "id": "84cefeae",
   "metadata": {},
   "outputs": [
    {
     "data": {
      "text/plain": [
       "Index(['No', 'year', 'month', 'day', 'hour', 'season', 'PM_Jingan',\n",
       "       'PM_US Post', 'PM_Xuhui', 'PM_mean', 'DEWP', 'HUMI', 'PRES', 'TEMP',\n",
       "       'cbwd', 'Iws', 'precipitation', 'Iprec'],\n",
       "      dtype='object')"
      ]
     },
     "execution_count": 9,
     "metadata": {},
     "output_type": "execute_result"
    }
   ],
   "source": [
    "df_sh.columns"
   ]
  },
  {
   "cell_type": "code",
   "execution_count": 10,
   "id": "08601a2c",
   "metadata": {},
   "outputs": [
    {
     "data": {
      "text/plain": [
       "PM_mean    54.838866\n",
       "dtype: float64"
      ]
     },
     "execution_count": 10,
     "metadata": {},
     "output_type": "execute_result"
    }
   ],
   "source": [
    "sh_pm_mean = df_sh.loc[df_sh['PM_mean'].notnull(),['PM_mean']].mean()\n",
    "sh_pm_mean"
   ]
  },
  {
   "cell_type": "markdown",
   "id": "cb48a004",
   "metadata": {},
   "source": [
    "### 1.2.3广州"
   ]
  },
  {
   "cell_type": "code",
   "execution_count": 11,
   "id": "781c698e",
   "metadata": {},
   "outputs": [
    {
     "data": {
      "text/plain": [
       "PM_mean    51.130994\n",
       "dtype: float64"
      ]
     },
     "execution_count": 11,
     "metadata": {},
     "output_type": "execute_result"
    }
   ],
   "source": [
    "gz_pm_mean = df_gz.loc[df_gz['PM_mean'].notnull(),['PM_mean']].mean()\n",
    "gz_pm_mean"
   ]
  },
  {
   "cell_type": "code",
   "execution_count": 12,
   "id": "c7984797",
   "metadata": {},
   "outputs": [
    {
     "data": {
      "text/html": [
       "<div>\n",
       "<style scoped>\n",
       "    .dataframe tbody tr th:only-of-type {\n",
       "        vertical-align: middle;\n",
       "    }\n",
       "\n",
       "    .dataframe tbody tr th {\n",
       "        vertical-align: top;\n",
       "    }\n",
       "\n",
       "    .dataframe thead th {\n",
       "        text-align: right;\n",
       "    }\n",
       "</style>\n",
       "<table border=\"1\" class=\"dataframe\">\n",
       "  <thead>\n",
       "    <tr style=\"text-align: right;\">\n",
       "      <th></th>\n",
       "      <th>No</th>\n",
       "      <th>year</th>\n",
       "      <th>month</th>\n",
       "      <th>day</th>\n",
       "      <th>hour</th>\n",
       "      <th>season</th>\n",
       "      <th>PM_City Station</th>\n",
       "      <th>PM_5th Middle School</th>\n",
       "      <th>PM_US Post</th>\n",
       "      <th>PM_mean</th>\n",
       "      <th>DEWP</th>\n",
       "      <th>HUMI</th>\n",
       "      <th>PRES</th>\n",
       "      <th>TEMP</th>\n",
       "      <th>cbwd</th>\n",
       "      <th>Iws</th>\n",
       "      <th>precipitation</th>\n",
       "      <th>Iprec</th>\n",
       "    </tr>\n",
       "  </thead>\n",
       "  <tbody>\n",
       "    <tr>\n",
       "      <th>52579</th>\n",
       "      <td>52580</td>\n",
       "      <td>2015</td>\n",
       "      <td>12</td>\n",
       "      <td>31</td>\n",
       "      <td>19</td>\n",
       "      <td>4.0</td>\n",
       "      <td>59.0</td>\n",
       "      <td>56.0</td>\n",
       "      <td>59.0</td>\n",
       "      <td>58.000000</td>\n",
       "      <td>11.0</td>\n",
       "      <td>80.0</td>\n",
       "      <td>1018.299988</td>\n",
       "      <td>14.4</td>\n",
       "      <td>NW</td>\n",
       "      <td>10.9</td>\n",
       "      <td>0.0</td>\n",
       "      <td>0.0</td>\n",
       "    </tr>\n",
       "    <tr>\n",
       "      <th>52580</th>\n",
       "      <td>52581</td>\n",
       "      <td>2015</td>\n",
       "      <td>12</td>\n",
       "      <td>31</td>\n",
       "      <td>20</td>\n",
       "      <td>4.0</td>\n",
       "      <td>58.0</td>\n",
       "      <td>57.0</td>\n",
       "      <td>58.0</td>\n",
       "      <td>57.666667</td>\n",
       "      <td>11.4</td>\n",
       "      <td>82.0</td>\n",
       "      <td>1018.700012</td>\n",
       "      <td>14.5</td>\n",
       "      <td>NW</td>\n",
       "      <td>12.9</td>\n",
       "      <td>0.0</td>\n",
       "      <td>0.0</td>\n",
       "    </tr>\n",
       "    <tr>\n",
       "      <th>52581</th>\n",
       "      <td>52582</td>\n",
       "      <td>2015</td>\n",
       "      <td>12</td>\n",
       "      <td>31</td>\n",
       "      <td>21</td>\n",
       "      <td>4.0</td>\n",
       "      <td>60.0</td>\n",
       "      <td>56.0</td>\n",
       "      <td>60.0</td>\n",
       "      <td>58.666667</td>\n",
       "      <td>11.1</td>\n",
       "      <td>78.0</td>\n",
       "      <td>1019.300000</td>\n",
       "      <td>14.9</td>\n",
       "      <td>NW</td>\n",
       "      <td>14.7</td>\n",
       "      <td>0.0</td>\n",
       "      <td>0.0</td>\n",
       "    </tr>\n",
       "    <tr>\n",
       "      <th>52582</th>\n",
       "      <td>52583</td>\n",
       "      <td>2015</td>\n",
       "      <td>12</td>\n",
       "      <td>31</td>\n",
       "      <td>22</td>\n",
       "      <td>4.0</td>\n",
       "      <td>60.0</td>\n",
       "      <td>57.0</td>\n",
       "      <td>60.0</td>\n",
       "      <td>59.000000</td>\n",
       "      <td>10.4</td>\n",
       "      <td>75.0</td>\n",
       "      <td>1019.500000</td>\n",
       "      <td>14.8</td>\n",
       "      <td>NW</td>\n",
       "      <td>15.9</td>\n",
       "      <td>0.0</td>\n",
       "      <td>0.0</td>\n",
       "    </tr>\n",
       "    <tr>\n",
       "      <th>52583</th>\n",
       "      <td>52584</td>\n",
       "      <td>2015</td>\n",
       "      <td>12</td>\n",
       "      <td>31</td>\n",
       "      <td>23</td>\n",
       "      <td>NaN</td>\n",
       "      <td>63.0</td>\n",
       "      <td>NaN</td>\n",
       "      <td>63.0</td>\n",
       "      <td>63.000000</td>\n",
       "      <td>NaN</td>\n",
       "      <td>NaN</td>\n",
       "      <td>NaN</td>\n",
       "      <td>NaN</td>\n",
       "      <td>NaN</td>\n",
       "      <td>NaN</td>\n",
       "      <td>NaN</td>\n",
       "      <td>NaN</td>\n",
       "    </tr>\n",
       "  </tbody>\n",
       "</table>\n",
       "</div>"
      ],
      "text/plain": [
       "          No  year  month  day  hour  season  PM_City Station  \\\n",
       "52579  52580  2015     12   31    19     4.0             59.0   \n",
       "52580  52581  2015     12   31    20     4.0             58.0   \n",
       "52581  52582  2015     12   31    21     4.0             60.0   \n",
       "52582  52583  2015     12   31    22     4.0             60.0   \n",
       "52583  52584  2015     12   31    23     NaN             63.0   \n",
       "\n",
       "       PM_5th Middle School  PM_US Post    PM_mean  DEWP  HUMI         PRES  \\\n",
       "52579                  56.0        59.0  58.000000  11.0  80.0  1018.299988   \n",
       "52580                  57.0        58.0  57.666667  11.4  82.0  1018.700012   \n",
       "52581                  56.0        60.0  58.666667  11.1  78.0  1019.300000   \n",
       "52582                  57.0        60.0  59.000000  10.4  75.0  1019.500000   \n",
       "52583                   NaN        63.0  63.000000   NaN   NaN          NaN   \n",
       "\n",
       "       TEMP cbwd   Iws  precipitation  Iprec  \n",
       "52579  14.4   NW  10.9            0.0    0.0  \n",
       "52580  14.5   NW  12.9            0.0    0.0  \n",
       "52581  14.9   NW  14.7            0.0    0.0  \n",
       "52582  14.8   NW  15.9            0.0    0.0  \n",
       "52583   NaN  NaN   NaN            NaN    NaN  "
      ]
     },
     "execution_count": 12,
     "metadata": {},
     "output_type": "execute_result"
    }
   ],
   "source": [
    "df_gz.tail()"
   ]
  },
  {
   "cell_type": "markdown",
   "id": "6552c0ee",
   "metadata": {},
   "source": [
    "### 1.2.4成都"
   ]
  },
  {
   "cell_type": "code",
   "execution_count": 13,
   "id": "555160ac",
   "metadata": {},
   "outputs": [
    {
     "data": {
      "text/plain": [
       "PM_mean    79.8612\n",
       "dtype: float64"
      ]
     },
     "execution_count": 13,
     "metadata": {},
     "output_type": "execute_result"
    }
   ],
   "source": [
    "cd_pm_mean = df_cd.loc[df_cd['PM_mean'].notnull(),['PM_mean']].mean()\n",
    "cd_pm_mean"
   ]
  },
  {
   "cell_type": "code",
   "execution_count": 14,
   "id": "24a7e368",
   "metadata": {},
   "outputs": [
    {
     "data": {
      "text/html": [
       "<div>\n",
       "<style scoped>\n",
       "    .dataframe tbody tr th:only-of-type {\n",
       "        vertical-align: middle;\n",
       "    }\n",
       "\n",
       "    .dataframe tbody tr th {\n",
       "        vertical-align: top;\n",
       "    }\n",
       "\n",
       "    .dataframe thead th {\n",
       "        text-align: right;\n",
       "    }\n",
       "</style>\n",
       "<table border=\"1\" class=\"dataframe\">\n",
       "  <thead>\n",
       "    <tr style=\"text-align: right;\">\n",
       "      <th></th>\n",
       "      <th>No</th>\n",
       "      <th>year</th>\n",
       "      <th>month</th>\n",
       "      <th>day</th>\n",
       "      <th>hour</th>\n",
       "      <th>season</th>\n",
       "      <th>PM_Caotangsi</th>\n",
       "      <th>PM_Shahepu</th>\n",
       "      <th>PM_US Post</th>\n",
       "      <th>PM_mean</th>\n",
       "      <th>DEWP</th>\n",
       "      <th>HUMI</th>\n",
       "      <th>PRES</th>\n",
       "      <th>TEMP</th>\n",
       "      <th>cbwd</th>\n",
       "      <th>Iws</th>\n",
       "      <th>precipitation</th>\n",
       "      <th>Iprec</th>\n",
       "    </tr>\n",
       "  </thead>\n",
       "  <tbody>\n",
       "    <tr>\n",
       "      <th>0</th>\n",
       "      <td>1</td>\n",
       "      <td>2010</td>\n",
       "      <td>1</td>\n",
       "      <td>1</td>\n",
       "      <td>0</td>\n",
       "      <td>4</td>\n",
       "      <td>NaN</td>\n",
       "      <td>NaN</td>\n",
       "      <td>NaN</td>\n",
       "      <td>NaN</td>\n",
       "      <td>4.0</td>\n",
       "      <td>81.20</td>\n",
       "      <td>1022.0</td>\n",
       "      <td>7.0</td>\n",
       "      <td>cv</td>\n",
       "      <td>1.0</td>\n",
       "      <td>0.0</td>\n",
       "      <td>0.0</td>\n",
       "    </tr>\n",
       "    <tr>\n",
       "      <th>1</th>\n",
       "      <td>2</td>\n",
       "      <td>2010</td>\n",
       "      <td>1</td>\n",
       "      <td>1</td>\n",
       "      <td>1</td>\n",
       "      <td>4</td>\n",
       "      <td>NaN</td>\n",
       "      <td>NaN</td>\n",
       "      <td>NaN</td>\n",
       "      <td>NaN</td>\n",
       "      <td>4.0</td>\n",
       "      <td>86.99</td>\n",
       "      <td>1022.0</td>\n",
       "      <td>6.0</td>\n",
       "      <td>cv</td>\n",
       "      <td>1.0</td>\n",
       "      <td>0.0</td>\n",
       "      <td>0.0</td>\n",
       "    </tr>\n",
       "  </tbody>\n",
       "</table>\n",
       "</div>"
      ],
      "text/plain": [
       "   No  year  month  day  hour  season  PM_Caotangsi  PM_Shahepu  PM_US Post  \\\n",
       "0   1  2010      1    1     0       4           NaN         NaN         NaN   \n",
       "1   2  2010      1    1     1       4           NaN         NaN         NaN   \n",
       "\n",
       "   PM_mean  DEWP   HUMI    PRES  TEMP cbwd  Iws  precipitation  Iprec  \n",
       "0      NaN   4.0  81.20  1022.0   7.0   cv  1.0            0.0    0.0  \n",
       "1      NaN   4.0  86.99  1022.0   6.0   cv  1.0            0.0    0.0  "
      ]
     },
     "execution_count": 14,
     "metadata": {},
     "output_type": "execute_result"
    }
   ],
   "source": [
    "df_cd.head(2)"
   ]
  },
  {
   "cell_type": "markdown",
   "id": "3c78b2f0",
   "metadata": {},
   "source": [
    " ### 1.2.5沈阳"
   ]
  },
  {
   "cell_type": "code",
   "execution_count": 15,
   "id": "fde0e36d",
   "metadata": {},
   "outputs": [
    {
     "data": {
      "text/plain": [
       "PM_mean    78.509795\n",
       "dtype: float64"
      ]
     },
     "execution_count": 15,
     "metadata": {},
     "output_type": "execute_result"
    }
   ],
   "source": [
    "sy_pm_mean = df_sy.loc[df_gz['PM_mean'].notnull(),['PM_mean']].mean()\n",
    "sy_pm_mean"
   ]
  },
  {
   "cell_type": "code",
   "execution_count": 16,
   "id": "b65295c8",
   "metadata": {},
   "outputs": [
    {
     "data": {
      "text/html": [
       "<div>\n",
       "<style scoped>\n",
       "    .dataframe tbody tr th:only-of-type {\n",
       "        vertical-align: middle;\n",
       "    }\n",
       "\n",
       "    .dataframe tbody tr th {\n",
       "        vertical-align: top;\n",
       "    }\n",
       "\n",
       "    .dataframe thead th {\n",
       "        text-align: right;\n",
       "    }\n",
       "</style>\n",
       "<table border=\"1\" class=\"dataframe\">\n",
       "  <thead>\n",
       "    <tr style=\"text-align: right;\">\n",
       "      <th></th>\n",
       "      <th>No</th>\n",
       "      <th>year</th>\n",
       "      <th>month</th>\n",
       "      <th>day</th>\n",
       "      <th>hour</th>\n",
       "      <th>season</th>\n",
       "      <th>PM_Taiyuanjie</th>\n",
       "      <th>PM_US Post</th>\n",
       "      <th>PM_Xiaoheyan</th>\n",
       "      <th>PM_mean</th>\n",
       "      <th>DEWP</th>\n",
       "      <th>HUMI</th>\n",
       "      <th>PRES</th>\n",
       "      <th>TEMP</th>\n",
       "      <th>cbwd</th>\n",
       "      <th>Iws</th>\n",
       "      <th>precipitation</th>\n",
       "      <th>Iprec</th>\n",
       "    </tr>\n",
       "  </thead>\n",
       "  <tbody>\n",
       "    <tr>\n",
       "      <th>0</th>\n",
       "      <td>1</td>\n",
       "      <td>2010</td>\n",
       "      <td>1</td>\n",
       "      <td>1</td>\n",
       "      <td>0</td>\n",
       "      <td>4</td>\n",
       "      <td>NaN</td>\n",
       "      <td>NaN</td>\n",
       "      <td>NaN</td>\n",
       "      <td>NaN</td>\n",
       "      <td>-26.0</td>\n",
       "      <td>69.79</td>\n",
       "      <td>1024.0</td>\n",
       "      <td>-22.0</td>\n",
       "      <td>NE</td>\n",
       "      <td>1.0289</td>\n",
       "      <td>NaN</td>\n",
       "      <td>NaN</td>\n",
       "    </tr>\n",
       "    <tr>\n",
       "      <th>1</th>\n",
       "      <td>2</td>\n",
       "      <td>2010</td>\n",
       "      <td>1</td>\n",
       "      <td>1</td>\n",
       "      <td>1</td>\n",
       "      <td>4</td>\n",
       "      <td>NaN</td>\n",
       "      <td>NaN</td>\n",
       "      <td>NaN</td>\n",
       "      <td>NaN</td>\n",
       "      <td>-26.0</td>\n",
       "      <td>76.26</td>\n",
       "      <td>1024.0</td>\n",
       "      <td>-23.0</td>\n",
       "      <td>NE</td>\n",
       "      <td>2.5722</td>\n",
       "      <td>NaN</td>\n",
       "      <td>NaN</td>\n",
       "    </tr>\n",
       "  </tbody>\n",
       "</table>\n",
       "</div>"
      ],
      "text/plain": [
       "   No  year  month  day  hour  season  PM_Taiyuanjie  PM_US Post  \\\n",
       "0   1  2010      1    1     0       4            NaN         NaN   \n",
       "1   2  2010      1    1     1       4            NaN         NaN   \n",
       "\n",
       "   PM_Xiaoheyan  PM_mean  DEWP   HUMI    PRES  TEMP cbwd     Iws  \\\n",
       "0           NaN      NaN -26.0  69.79  1024.0 -22.0   NE  1.0289   \n",
       "1           NaN      NaN -26.0  76.26  1024.0 -23.0   NE  2.5722   \n",
       "\n",
       "   precipitation  Iprec  \n",
       "0            NaN    NaN  \n",
       "1            NaN    NaN  "
      ]
     },
     "execution_count": 16,
     "metadata": {},
     "output_type": "execute_result"
    }
   ],
   "source": [
    "df_sy.head(2)"
   ]
  },
  {
   "cell_type": "markdown",
   "id": "f92a5c0d",
   "metadata": {},
   "source": [
    "# 2.绘制地理分布图"
   ]
  },
  {
   "cell_type": "code",
   "execution_count": 17,
   "id": "d14dac79",
   "metadata": {
    "scrolled": true
   },
   "outputs": [
    {
     "data": {
      "text/html": [
       "\n",
       "<script>\n",
       "    require.config({\n",
       "        paths: {\n",
       "            'echarts':'https://assets.pyecharts.org/assets/echarts.min', 'china':'https://assets.pyecharts.org/assets/maps/china'\n",
       "        }\n",
       "    });\n",
       "</script>\n",
       "\n",
       "        <div id=\"100371489b6f43c48c63783f022f8e79\" style=\"width:900px; height:500px;\"></div>\n",
       "\n",
       "<script>\n",
       "        require(['echarts', 'china'], function(echarts) {\n",
       "                var chart_100371489b6f43c48c63783f022f8e79 = echarts.init(\n",
       "                    document.getElementById('100371489b6f43c48c63783f022f8e79'), 'white', {renderer: 'canvas'});\n",
       "                var option_100371489b6f43c48c63783f022f8e79 = {\n",
       "    \"animation\": true,\n",
       "    \"animationThreshold\": 2000,\n",
       "    \"animationDuration\": 1000,\n",
       "    \"animationEasing\": \"cubicOut\",\n",
       "    \"animationDelay\": 0,\n",
       "    \"animationDurationUpdate\": 300,\n",
       "    \"animationEasingUpdate\": \"cubicOut\",\n",
       "    \"animationDelayUpdate\": 0,\n",
       "    \"color\": [\n",
       "        \"#c23531\",\n",
       "        \"#2f4554\",\n",
       "        \"#61a0a8\",\n",
       "        \"#d48265\",\n",
       "        \"#749f83\",\n",
       "        \"#ca8622\",\n",
       "        \"#bda29a\",\n",
       "        \"#6e7074\",\n",
       "        \"#546570\",\n",
       "        \"#c4ccd3\",\n",
       "        \"#f05b72\",\n",
       "        \"#ef5b9c\",\n",
       "        \"#f47920\",\n",
       "        \"#905a3d\",\n",
       "        \"#fab27b\",\n",
       "        \"#2a5caa\",\n",
       "        \"#444693\",\n",
       "        \"#726930\",\n",
       "        \"#b2d235\",\n",
       "        \"#6d8346\",\n",
       "        \"#ac6767\",\n",
       "        \"#1d953f\",\n",
       "        \"#6950a1\",\n",
       "        \"#918597\"\n",
       "    ],\n",
       "    \"series\": [\n",
       "        {\n",
       "            \"type\": \"scatter\",\n",
       "            \"name\": \"PM2.5\",\n",
       "            \"coordinateSystem\": \"geo\",\n",
       "            \"symbolSize\": 12,\n",
       "            \"data\": [\n",
       "                {\n",
       "                    \"name\": \"\\u5317\\u4eac\",\n",
       "                    \"value\": [\n",
       "                        116.407526,\n",
       "                        39.90403,\n",
       "                        null\n",
       "                    ]\n",
       "                },\n",
       "                {\n",
       "                    \"name\": \"\\u4e0a\\u6d77\",\n",
       "                    \"value\": [\n",
       "                        121.473701,\n",
       "                        31.230416,\n",
       "                        null\n",
       "                    ]\n",
       "                },\n",
       "                {\n",
       "                    \"name\": \"\\u5e7f\\u5dde\",\n",
       "                    \"value\": [\n",
       "                        113.23,\n",
       "                        23.16,\n",
       "                        null\n",
       "                    ]\n",
       "                },\n",
       "                {\n",
       "                    \"name\": \"\\u6210\\u90fd\",\n",
       "                    \"value\": [\n",
       "                        104.06,\n",
       "                        30.67,\n",
       "                        null\n",
       "                    ]\n",
       "                },\n",
       "                {\n",
       "                    \"name\": \"\\u6c88\\u9633\",\n",
       "                    \"value\": [\n",
       "                        123.38,\n",
       "                        41.8,\n",
       "                        null\n",
       "                    ]\n",
       "                }\n",
       "            ],\n",
       "            \"label\": {\n",
       "                \"show\": false,\n",
       "                \"position\": \"top\",\n",
       "                \"margin\": 8\n",
       "            },\n",
       "            \"rippleEffect\": {\n",
       "                \"show\": true,\n",
       "                \"brushType\": \"stroke\",\n",
       "                \"scale\": 2.5,\n",
       "                \"period\": 4\n",
       "            }\n",
       "        }\n",
       "    ],\n",
       "    \"legend\": [\n",
       "        {\n",
       "            \"data\": [\n",
       "                \"PM2.5\"\n",
       "            ],\n",
       "            \"selected\": {\n",
       "                \"PM2.5\": true\n",
       "            },\n",
       "            \"show\": true,\n",
       "            \"padding\": 5,\n",
       "            \"itemGap\": 10,\n",
       "            \"itemWidth\": 25,\n",
       "            \"itemHeight\": 14\n",
       "        }\n",
       "    ],\n",
       "    \"tooltip\": {\n",
       "        \"show\": true,\n",
       "        \"trigger\": \"item\",\n",
       "        \"triggerOn\": \"mousemove|click\",\n",
       "        \"axisPointer\": {\n",
       "            \"type\": \"line\"\n",
       "        },\n",
       "        \"showContent\": true,\n",
       "        \"alwaysShowContent\": false,\n",
       "        \"showDelay\": 0,\n",
       "        \"hideDelay\": 100,\n",
       "        \"textStyle\": {\n",
       "            \"fontSize\": 14\n",
       "        },\n",
       "        \"borderWidth\": 0,\n",
       "        \"padding\": 5\n",
       "    },\n",
       "    \"title\": [\n",
       "        {\n",
       "            \"padding\": 5,\n",
       "            \"itemGap\": 10\n",
       "        }\n",
       "    ],\n",
       "    \"geo\": {\n",
       "        \"map\": \"china\",\n",
       "        \"roam\": true,\n",
       "        \"aspectScale\": 0.75,\n",
       "        \"nameProperty\": \"name\",\n",
       "        \"selectedMode\": false,\n",
       "        \"emphasis\": {}\n",
       "    }\n",
       "};\n",
       "                chart_100371489b6f43c48c63783f022f8e79.setOption(option_100371489b6f43c48c63783f022f8e79);\n",
       "        });\n",
       "    </script>\n"
      ],
      "text/plain": [
       "<pyecharts.render.display.HTML at 0x26acfcf9bb0>"
      ]
     },
     "execution_count": 17,
     "metadata": {},
     "output_type": "execute_result"
    }
   ],
   "source": [
    "#创建地理分布图的对象\n",
    "geo = Geo()\n",
    "#添加中国地图\n",
    "geo.add_schema(maptype='china')\n",
    "#添加数据\n",
    "geo.add('PM2.5',[['北京',bj_pm_mean],['上海',sh_pm_mean],['广州',gz_pm_mean],['成都',cd_pm_mean],['沈阳',sy_pm_mean]])\n",
    "#去掉标识[热力值数据]\n",
    "geo.set_series_opts(label_opts=opts.LabelOpts(is_show=False))\n",
    "#显示左下角的颜色控制\n",
    "#geo.set_global_opts(visualmap_opts=opts.VisualMapOpts(is_piecewise=True),title_opts=opts.TitleOpts(title='北上广成沈五城市PM2.5平均值'))\n",
    "#绘制图形\n",
    "geo.render_notebook()#不加_notebook会生成一个html文件"
   ]
  },
  {
   "cell_type": "markdown",
   "id": "00458562",
   "metadata": {},
   "source": [
    "# 3.1计算五个城市PM2.5年平均值"
   ]
  },
  {
   "cell_type": "markdown",
   "id": "7ade32d6",
   "metadata": {},
   "source": [
    "- 北京"
   ]
  },
  {
   "cell_type": "code",
   "execution_count": 18,
   "id": "8654a647",
   "metadata": {},
   "outputs": [
    {
     "data": {
      "text/plain": [
       "Index(['No', 'year', 'month', 'day', 'hour', 'season', 'PM_Dongsi',\n",
       "       'PM_Dongsihuan', 'PM_Nongzhanguan', 'PM_US Post', 'PM_mean', 'DEWP',\n",
       "       'HUMI', 'PRES', 'TEMP', 'cbwd', 'Iws', 'precipitation', 'Iprec'],\n",
       "      dtype='object')"
      ]
     },
     "execution_count": 18,
     "metadata": {},
     "output_type": "execute_result"
    }
   ],
   "source": [
    "df_bj.columns"
   ]
  },
  {
   "cell_type": "code",
   "execution_count": 19,
   "id": "e3499aae",
   "metadata": {},
   "outputs": [],
   "source": [
    "# 按照年分组查询 查询四个测点平均值的平均值\n",
    "bj_year_pm_mean = df_bj['PM_mean'].groupby(df_bj['year']).mean()"
   ]
  },
  {
   "cell_type": "markdown",
   "id": "58e72f38",
   "metadata": {},
   "source": [
    "- 上海"
   ]
  },
  {
   "cell_type": "code",
   "execution_count": 20,
   "id": "9e2996bd",
   "metadata": {},
   "outputs": [],
   "source": [
    "sh_year_pm_mean = df_sh['PM_mean'].groupby(df_sh['year']).mean()"
   ]
  },
  {
   "cell_type": "code",
   "execution_count": 21,
   "id": "704e07c0",
   "metadata": {},
   "outputs": [
    {
     "data": {
      "text/plain": [
       "year\n",
       "2010          NaN\n",
       "2011    68.090909\n",
       "2012    50.862399\n",
       "2013    62.752275\n",
       "2014    52.602334\n",
       "2015    52.886726\n",
       "Name: PM_mean, dtype: float64"
      ]
     },
     "execution_count": 21,
     "metadata": {},
     "output_type": "execute_result"
    }
   ],
   "source": [
    "sh_year_pm_mean"
   ]
  },
  {
   "cell_type": "markdown",
   "id": "4a039612",
   "metadata": {},
   "source": [
    "- 广州"
   ]
  },
  {
   "cell_type": "code",
   "execution_count": 22,
   "id": "8aa05b59",
   "metadata": {},
   "outputs": [],
   "source": [
    "gz_year_pm_mean = df_gz['PM_mean'].groupby(df_gz['year']).mean()"
   ]
  },
  {
   "cell_type": "code",
   "execution_count": 23,
   "id": "72d62a86",
   "metadata": {},
   "outputs": [
    {
     "data": {
      "text/plain": [
       "year\n",
       "2010          NaN\n",
       "2011    73.110368\n",
       "2012    57.746457\n",
       "2013    55.275342\n",
       "2014    50.653666\n",
       "2015    40.436641\n",
       "Name: PM_mean, dtype: float64"
      ]
     },
     "execution_count": 23,
     "metadata": {},
     "output_type": "execute_result"
    }
   ],
   "source": [
    "gz_year_pm_mean"
   ]
  },
  {
   "cell_type": "markdown",
   "id": "c10db481",
   "metadata": {},
   "source": [
    "- 成都"
   ]
  },
  {
   "cell_type": "code",
   "execution_count": 24,
   "id": "b40d1286",
   "metadata": {},
   "outputs": [],
   "source": [
    "cd_year_pm_mean_notnull = df_cd.loc[df_cd['PM_mean'].notnull(),'PM_mean'].groupby(df_cd['year']).mean()"
   ]
  },
  {
   "cell_type": "code",
   "execution_count": 25,
   "id": "8454fd28",
   "metadata": {},
   "outputs": [
    {
     "data": {
      "text/plain": [
       "year\n",
       "2012    84.988206\n",
       "2013    95.874335\n",
       "2014    76.891282\n",
       "2015    64.562005\n",
       "Name: PM_mean, dtype: float64"
      ]
     },
     "execution_count": 25,
     "metadata": {},
     "output_type": "execute_result"
    }
   ],
   "source": [
    "cd_year_pm_mean_notnull"
   ]
  },
  {
   "cell_type": "code",
   "execution_count": 26,
   "id": "da80e62e",
   "metadata": {},
   "outputs": [],
   "source": [
    "cd_year_pm_mean = df_cd['PM_mean'].groupby(df_cd['year']).mean()"
   ]
  },
  {
   "cell_type": "code",
   "execution_count": 27,
   "id": "92c6a91d",
   "metadata": {},
   "outputs": [
    {
     "data": {
      "text/plain": [
       "year\n",
       "2010          NaN\n",
       "2011          NaN\n",
       "2012    84.988206\n",
       "2013    95.874335\n",
       "2014    76.891282\n",
       "2015    64.562005\n",
       "Name: PM_mean, dtype: float64"
      ]
     },
     "execution_count": 27,
     "metadata": {},
     "output_type": "execute_result"
    }
   ],
   "source": [
    "cd_year_pm_mean"
   ]
  },
  {
   "cell_type": "markdown",
   "id": "2dd27feb",
   "metadata": {},
   "source": [
    "- 沈阳"
   ]
  },
  {
   "cell_type": "code",
   "execution_count": 28,
   "id": "b9bddee5",
   "metadata": {},
   "outputs": [],
   "source": [
    "sy_year_pm_mean = df_sy['PM_mean'].groupby(df_sy['year']).mean()"
   ]
  },
  {
   "cell_type": "code",
   "execution_count": 29,
   "id": "994ca796",
   "metadata": {},
   "outputs": [
    {
     "data": {
      "text/plain": [
       "year\n",
       "2010          NaN\n",
       "2011          NaN\n",
       "2012          NaN\n",
       "2013    82.792754\n",
       "2014    77.438699\n",
       "2015    74.848530\n",
       "Name: PM_mean, dtype: float64"
      ]
     },
     "execution_count": 29,
     "metadata": {},
     "output_type": "execute_result"
    }
   ],
   "source": [
    "sy_year_pm_mean"
   ]
  },
  {
   "cell_type": "markdown",
   "id": "8cf9db4e",
   "metadata": {},
   "source": [
    "## 绘图"
   ]
  },
  {
   "cell_type": "markdown",
   "id": "18f8cf97",
   "metadata": {},
   "source": [
    "# 3.2 分析五城市污染状态"
   ]
  },
  {
   "cell_type": "code",
   "execution_count": 30,
   "id": "7d0d1692",
   "metadata": {},
   "outputs": [],
   "source": [
    "#返回污染等级占该城市小时数比例函数\n",
    "def pct_pol_level(data_arr):\n",
    "    level_1 = data_arr[data_arr <= 35].shape[0]\n",
    "    level_2 = data_arr[data_arr <= 75].shape[0]\n",
    "    level_3 = data_arr[(75 < data_arr) & (data_arr <= 115)].shape[0]\n",
    "    level_4 = data_arr[(15 < data_arr) & (data_arr <= 150)].shape[0]\n",
    "    level_5 = data_arr[(150 < data_arr) & (data_arr <= 250)].shape[0]\n",
    "    level_6 = data_arr[data_arr > 250].shape[0]\n",
    "    levels = np.array([level_1, level_2, level_3, level_4, level_5, level_6])\n",
    "    print(levels)\n",
    "    result = levels / np.sum(levels)\n",
    "    print(result)\n",
    "    return result"
   ]
  },
  {
   "cell_type": "code",
   "execution_count": 31,
   "id": "4a79986c",
   "metadata": {},
   "outputs": [
    {
     "name": "stdout",
     "output_type": "stream",
     "text": [
      "[15449 26922  8554 33570  6915  3461]\n",
      "[0.16284218 0.28377481 0.09016454 0.35384891 0.07288845 0.03648112]\n",
      "[13924 27197  4555 30415  1243   159]\n",
      "[0.17968075 0.35096073 0.0587795  0.39248706 0.01604016 0.0020518 ]\n",
      "[13079 26852  4733 29811   623    45]\n",
      "[0.1740548  0.35734533 0.06298657 0.39672358 0.00829086 0.00059886]\n",
      "[ 5860 18020  6458 26410  2828   566]\n",
      "[0.09743607 0.29962422 0.1073792  0.4391274  0.04702205 0.00941106]\n",
      "[ 7627 16413  4459 21182  2251   851]\n",
      "[0.14449728 0.31095239 0.08447796 0.40130345 0.04264631 0.01612262]\n"
     ]
    }
   ],
   "source": [
    "#计算出每个城市每个污染等级的比例\n",
    "bj_degree = pct_pol_level(df_bj['PM_mean'])\n",
    "sh_degree = pct_pol_level(df_sh['PM_mean'])\n",
    "gz_degree = pct_pol_level(df_gz['PM_mean'])\n",
    "cd_degree = pct_pol_level(df_cd['PM_mean'])\n",
    "sy_degree = pct_pol_level(df_sy['PM_mean'])"
   ]
  },
  {
   "cell_type": "code",
   "execution_count": 32,
   "id": "83603e1f",
   "metadata": {},
   "outputs": [
    {
     "data": {
      "text/html": [
       "<div>\n",
       "<style scoped>\n",
       "    .dataframe tbody tr th:only-of-type {\n",
       "        vertical-align: middle;\n",
       "    }\n",
       "\n",
       "    .dataframe tbody tr th {\n",
       "        vertical-align: top;\n",
       "    }\n",
       "\n",
       "    .dataframe thead th {\n",
       "        text-align: right;\n",
       "    }\n",
       "</style>\n",
       "<table border=\"1\" class=\"dataframe\">\n",
       "  <thead>\n",
       "    <tr style=\"text-align: right;\">\n",
       "      <th></th>\n",
       "      <th>北京</th>\n",
       "      <th>上海</th>\n",
       "      <th>广州</th>\n",
       "      <th>成都</th>\n",
       "      <th>沈阳</th>\n",
       "    </tr>\n",
       "  </thead>\n",
       "  <tbody>\n",
       "    <tr>\n",
       "      <th>优</th>\n",
       "      <td>0.162842</td>\n",
       "      <td>0.179681</td>\n",
       "      <td>0.174055</td>\n",
       "      <td>0.097436</td>\n",
       "      <td>0.144497</td>\n",
       "    </tr>\n",
       "    <tr>\n",
       "      <th>良</th>\n",
       "      <td>0.283775</td>\n",
       "      <td>0.350961</td>\n",
       "      <td>0.357345</td>\n",
       "      <td>0.299624</td>\n",
       "      <td>0.310952</td>\n",
       "    </tr>\n",
       "    <tr>\n",
       "      <th>轻度污染</th>\n",
       "      <td>0.090165</td>\n",
       "      <td>0.058780</td>\n",
       "      <td>0.062987</td>\n",
       "      <td>0.107379</td>\n",
       "      <td>0.084478</td>\n",
       "    </tr>\n",
       "    <tr>\n",
       "      <th>中度污染</th>\n",
       "      <td>0.353849</td>\n",
       "      <td>0.392487</td>\n",
       "      <td>0.396724</td>\n",
       "      <td>0.439127</td>\n",
       "      <td>0.401303</td>\n",
       "    </tr>\n",
       "    <tr>\n",
       "      <th>重度污染</th>\n",
       "      <td>0.072888</td>\n",
       "      <td>0.016040</td>\n",
       "      <td>0.008291</td>\n",
       "      <td>0.047022</td>\n",
       "      <td>0.042646</td>\n",
       "    </tr>\n",
       "    <tr>\n",
       "      <th>严重污染</th>\n",
       "      <td>0.036481</td>\n",
       "      <td>0.002052</td>\n",
       "      <td>0.000599</td>\n",
       "      <td>0.009411</td>\n",
       "      <td>0.016123</td>\n",
       "    </tr>\n",
       "  </tbody>\n",
       "</table>\n",
       "</div>"
      ],
      "text/plain": [
       "            北京        上海        广州        成都        沈阳\n",
       "优     0.162842  0.179681  0.174055  0.097436  0.144497\n",
       "良     0.283775  0.350961  0.357345  0.299624  0.310952\n",
       "轻度污染  0.090165  0.058780  0.062987  0.107379  0.084478\n",
       "中度污染  0.353849  0.392487  0.396724  0.439127  0.401303\n",
       "重度污染  0.072888  0.016040  0.008291  0.047022  0.042646\n",
       "严重污染  0.036481  0.002052  0.000599  0.009411  0.016123"
      ]
     },
     "execution_count": 32,
     "metadata": {},
     "output_type": "execute_result"
    }
   ],
   "source": [
    "#应该转换成每组数据是同一污染等级的\n",
    "#five_degree = pd.DataFrame()\n",
    "degree_df = pd.DataFrame(bj_degree,index = ['优','良','轻度污染','中度污染','重度污染','严重污染'],columns = ['北京'])\n",
    "degree_df.insert(1,'上海',sh_degree)\n",
    "degree_df.insert(2,'广州',gz_degree)\n",
    "degree_df.insert(3,'成都',cd_degree)\n",
    "degree_df.insert(4,'沈阳',sy_degree)\n",
    "degree_df"
   ]
  },
  {
   "cell_type": "code",
   "execution_count": 33,
   "id": "020baaef",
   "metadata": {},
   "outputs": [
    {
     "data": {
      "text/plain": [
       "Text(0.5, 0, '城市')"
      ]
     },
     "execution_count": 33,
     "metadata": {},
     "output_type": "execute_result"
    },
    {
     "data": {
      "image/png": "[encoded data removed]",
      "text/plain": [
       "<Figure size 640x480 with 1 Axes>"
      ]
     },
     "metadata": {},
     "output_type": "display_data"
    }
   ],
   "source": [
    "#画堆叠柱状图\n",
    "plt.rcParams['font.sans-serif'] = ['Microsoft YaHei']\n",
    "plt.figure()\n",
    "labels = degree_df.columns\n",
    "plt.title(\"图1 五城市各空气质量等级小时比例\")\n",
    "\n",
    "plt.bar(labels,degree_df.loc['优'],color = 'aquamarine',width = 0.5,label='优')\n",
    "plt.bar(labels,degree_df.loc['良'],color = 'lime',width = 0.5,bottom=degree_df.loc['优'],label='良')\n",
    "plt.bar(labels,degree_df.loc['轻度污染'],color = 'orange',width = 0.5,bottom=degree_df.loc['优']+degree_df.loc['良'],label='轻度污染')\n",
    "plt.bar(labels,degree_df.loc['中度污染'],color = 'r',width = 0.5,bottom=degree_df.loc['优']+degree_df.loc['良']+degree_df.loc['轻度污染'],label='中度污染')\n",
    "plt.bar(labels,degree_df.loc['重度污染'],color ='purple' ,width = 0.5,bottom=degree_df.loc['优']+degree_df.loc['良']+degree_df.loc['轻度污染']+degree_df.loc['中度污染'],label='重度污染')\n",
    "plt.bar(labels,degree_df.loc['严重污染'],color = 'black',width = 0.5,bottom=degree_df.loc['优']+degree_df.loc['良']+degree_df.loc['轻度污染']+degree_df.loc['中度污染']+degree_df.loc['重度污染'],label='严重污染')\n",
    "plt.legend(loc=(-0.3,0))\n",
    "plt.ylabel('比例')\n",
    "plt.xlabel('城市')"
   ]
  },
  {
   "cell_type": "markdown",
   "id": "55817c91",
   "metadata": {},
   "source": [
    "# 3.3五城市每个区空气质量的月度差异"
   ]
  },
  {
   "cell_type": "code",
   "execution_count": 34,
   "id": "4a4bb8a4",
   "metadata": {},
   "outputs": [
    {
     "data": {
      "text/html": [
       "<div>\n",
       "<style scoped>\n",
       "    .dataframe tbody tr th:only-of-type {\n",
       "        vertical-align: middle;\n",
       "    }\n",
       "\n",
       "    .dataframe tbody tr th {\n",
       "        vertical-align: top;\n",
       "    }\n",
       "\n",
       "    .dataframe thead th {\n",
       "        text-align: right;\n",
       "    }\n",
       "</style>\n",
       "<table border=\"1\" class=\"dataframe\">\n",
       "  <thead>\n",
       "    <tr style=\"text-align: right;\">\n",
       "      <th></th>\n",
       "      <th>No</th>\n",
       "      <th>year</th>\n",
       "      <th>month</th>\n",
       "      <th>day</th>\n",
       "      <th>hour</th>\n",
       "      <th>season</th>\n",
       "      <th>PM_Dongsi</th>\n",
       "      <th>PM_Dongsihuan</th>\n",
       "      <th>PM_Nongzhanguan</th>\n",
       "      <th>PM_US Post</th>\n",
       "      <th>PM_mean</th>\n",
       "      <th>DEWP</th>\n",
       "      <th>HUMI</th>\n",
       "      <th>PRES</th>\n",
       "      <th>TEMP</th>\n",
       "      <th>cbwd</th>\n",
       "      <th>Iws</th>\n",
       "      <th>precipitation</th>\n",
       "      <th>Iprec</th>\n",
       "    </tr>\n",
       "  </thead>\n",
       "  <tbody>\n",
       "    <tr>\n",
       "      <th>0</th>\n",
       "      <td>1</td>\n",
       "      <td>2010</td>\n",
       "      <td>1</td>\n",
       "      <td>1</td>\n",
       "      <td>0</td>\n",
       "      <td>4</td>\n",
       "      <td>NaN</td>\n",
       "      <td>NaN</td>\n",
       "      <td>NaN</td>\n",
       "      <td>NaN</td>\n",
       "      <td>NaN</td>\n",
       "      <td>-21.0</td>\n",
       "      <td>43.0</td>\n",
       "      <td>1021.0</td>\n",
       "      <td>-11.0</td>\n",
       "      <td>NW</td>\n",
       "      <td>1.79</td>\n",
       "      <td>0.0</td>\n",
       "      <td>0.0</td>\n",
       "    </tr>\n",
       "    <tr>\n",
       "      <th>1</th>\n",
       "      <td>2</td>\n",
       "      <td>2010</td>\n",
       "      <td>1</td>\n",
       "      <td>1</td>\n",
       "      <td>1</td>\n",
       "      <td>4</td>\n",
       "      <td>NaN</td>\n",
       "      <td>NaN</td>\n",
       "      <td>NaN</td>\n",
       "      <td>NaN</td>\n",
       "      <td>NaN</td>\n",
       "      <td>-21.0</td>\n",
       "      <td>47.0</td>\n",
       "      <td>1020.0</td>\n",
       "      <td>-12.0</td>\n",
       "      <td>NW</td>\n",
       "      <td>4.92</td>\n",
       "      <td>0.0</td>\n",
       "      <td>0.0</td>\n",
       "    </tr>\n",
       "    <tr>\n",
       "      <th>2</th>\n",
       "      <td>3</td>\n",
       "      <td>2010</td>\n",
       "      <td>1</td>\n",
       "      <td>1</td>\n",
       "      <td>2</td>\n",
       "      <td>4</td>\n",
       "      <td>NaN</td>\n",
       "      <td>NaN</td>\n",
       "      <td>NaN</td>\n",
       "      <td>NaN</td>\n",
       "      <td>NaN</td>\n",
       "      <td>-21.0</td>\n",
       "      <td>43.0</td>\n",
       "      <td>1019.0</td>\n",
       "      <td>-11.0</td>\n",
       "      <td>NW</td>\n",
       "      <td>6.71</td>\n",
       "      <td>0.0</td>\n",
       "      <td>0.0</td>\n",
       "    </tr>\n",
       "    <tr>\n",
       "      <th>3</th>\n",
       "      <td>4</td>\n",
       "      <td>2010</td>\n",
       "      <td>1</td>\n",
       "      <td>1</td>\n",
       "      <td>3</td>\n",
       "      <td>4</td>\n",
       "      <td>NaN</td>\n",
       "      <td>NaN</td>\n",
       "      <td>NaN</td>\n",
       "      <td>NaN</td>\n",
       "      <td>NaN</td>\n",
       "      <td>-21.0</td>\n",
       "      <td>55.0</td>\n",
       "      <td>1019.0</td>\n",
       "      <td>-14.0</td>\n",
       "      <td>NW</td>\n",
       "      <td>9.84</td>\n",
       "      <td>0.0</td>\n",
       "      <td>0.0</td>\n",
       "    </tr>\n",
       "    <tr>\n",
       "      <th>4</th>\n",
       "      <td>5</td>\n",
       "      <td>2010</td>\n",
       "      <td>1</td>\n",
       "      <td>1</td>\n",
       "      <td>4</td>\n",
       "      <td>4</td>\n",
       "      <td>NaN</td>\n",
       "      <td>NaN</td>\n",
       "      <td>NaN</td>\n",
       "      <td>NaN</td>\n",
       "      <td>NaN</td>\n",
       "      <td>-20.0</td>\n",
       "      <td>51.0</td>\n",
       "      <td>1018.0</td>\n",
       "      <td>-12.0</td>\n",
       "      <td>NW</td>\n",
       "      <td>12.97</td>\n",
       "      <td>0.0</td>\n",
       "      <td>0.0</td>\n",
       "    </tr>\n",
       "  </tbody>\n",
       "</table>\n",
       "</div>"
      ],
      "text/plain": [
       "   No  year  month  day  hour  season  PM_Dongsi  PM_Dongsihuan  \\\n",
       "0   1  2010      1    1     0       4        NaN            NaN   \n",
       "1   2  2010      1    1     1       4        NaN            NaN   \n",
       "2   3  2010      1    1     2       4        NaN            NaN   \n",
       "3   4  2010      1    1     3       4        NaN            NaN   \n",
       "4   5  2010      1    1     4       4        NaN            NaN   \n",
       "\n",
       "   PM_Nongzhanguan  PM_US Post  PM_mean  DEWP  HUMI    PRES  TEMP cbwd    Iws  \\\n",
       "0              NaN         NaN      NaN -21.0  43.0  1021.0 -11.0   NW   1.79   \n",
       "1              NaN         NaN      NaN -21.0  47.0  1020.0 -12.0   NW   4.92   \n",
       "2              NaN         NaN      NaN -21.0  43.0  1019.0 -11.0   NW   6.71   \n",
       "3              NaN         NaN      NaN -21.0  55.0  1019.0 -14.0   NW   9.84   \n",
       "4              NaN         NaN      NaN -20.0  51.0  1018.0 -12.0   NW  12.97   \n",
       "\n",
       "   precipitation  Iprec  \n",
       "0            0.0    0.0  \n",
       "1            0.0    0.0  \n",
       "2            0.0    0.0  \n",
       "3            0.0    0.0  \n",
       "4            0.0    0.0  "
      ]
     },
     "execution_count": 34,
     "metadata": {},
     "output_type": "execute_result"
    }
   ],
   "source": [
    "df_bj.head()"
   ]
  },
  {
   "cell_type": "code",
   "execution_count": 35,
   "id": "5337f1e6",
   "metadata": {},
   "outputs": [
    {
     "data": {
      "text/plain": [
       "'\\n北京：监测点1-东四：东城区 监测点2-东四环：朝阳区 监测点3-农展馆：朝阳区 监测点3-US Post：朝阳区\\n上海：监测点1-静安：静安区 监测点2-US Post：徐汇区 监测点3-徐汇：徐汇区\\n广州：监测点1-City Station：黄埔区 监测点2-第5中学：海珠区 监测点3-US Post：天河区\\n成都：监测点1-草堂寺：青羊区 监测点2沙河铺-：锦江区 监测点3- US Post：武侯区\\n沈阳：监测点1-太原街：和平区 监测点2- US Post：和平区 监测点3-：沈河区\\n（注：US Post点位以美国领事馆所在区确定）\\n'"
      ]
     },
     "execution_count": 35,
     "metadata": {},
     "output_type": "execute_result"
    }
   ],
   "source": [
    "#分别对每个城市数据按区进行合并，为数据添加新列。\n",
    "'''\n",
    "北京：监测点1-东四：东城区 监测点2-东四环：朝阳区 监测点3-农展馆：朝阳区 监测点3-US Post：朝阳区\n",
    "上海：监测点1-静安：静安区 监测点2-US Post：徐汇区 监测点3-徐汇：徐汇区\n",
    "广州：监测点1-City Station：黄埔区 监测点2-第5中学：海珠区 监测点3-US Post：天河区\n",
    "成都：监测点1-草堂寺：青羊区 监测点2沙河铺-：锦江区 监测点3- US Post：武侯区\n",
    "沈阳：监测点1-太原街：和平区 监测点2- US Post：和平区 监测点3-：沈河区\n",
    "（注：US Post点位以美国领事馆所在区确定）\n",
    "'''"
   ]
  },
  {
   "cell_type": "markdown",
   "id": "0fc5211d",
   "metadata": {},
   "source": [
    "北京"
   ]
  },
  {
   "cell_type": "code",
   "execution_count": 36,
   "id": "1e0be7da",
   "metadata": {},
   "outputs": [],
   "source": [
    "df_bj['东城区'] = df_bj['PM_Dongsi']"
   ]
  },
  {
   "cell_type": "code",
   "execution_count": 37,
   "id": "d43aef36",
   "metadata": {},
   "outputs": [],
   "source": [
    "df_bj['朝阳区'] = df_bj.loc[:,['PM_Dongsihuan','PM_Nongzhanguan','PM_US Post']].mean(axis=1)"
   ]
  },
  {
   "cell_type": "code",
   "execution_count": 38,
   "id": "b3061ffc",
   "metadata": {},
   "outputs": [
    {
     "data": {
      "text/html": [
       "<div>\n",
       "<style scoped>\n",
       "    .dataframe tbody tr th:only-of-type {\n",
       "        vertical-align: middle;\n",
       "    }\n",
       "\n",
       "    .dataframe tbody tr th {\n",
       "        vertical-align: top;\n",
       "    }\n",
       "\n",
       "    .dataframe thead th {\n",
       "        text-align: right;\n",
       "    }\n",
       "</style>\n",
       "<table border=\"1\" class=\"dataframe\">\n",
       "  <thead>\n",
       "    <tr style=\"text-align: right;\">\n",
       "      <th></th>\n",
       "      <th>No</th>\n",
       "      <th>year</th>\n",
       "      <th>month</th>\n",
       "      <th>day</th>\n",
       "      <th>hour</th>\n",
       "      <th>season</th>\n",
       "      <th>PM_Dongsi</th>\n",
       "      <th>PM_Dongsihuan</th>\n",
       "      <th>PM_Nongzhanguan</th>\n",
       "      <th>PM_US Post</th>\n",
       "      <th>...</th>\n",
       "      <th>DEWP</th>\n",
       "      <th>HUMI</th>\n",
       "      <th>PRES</th>\n",
       "      <th>TEMP</th>\n",
       "      <th>cbwd</th>\n",
       "      <th>Iws</th>\n",
       "      <th>precipitation</th>\n",
       "      <th>Iprec</th>\n",
       "      <th>东城区</th>\n",
       "      <th>朝阳区</th>\n",
       "    </tr>\n",
       "  </thead>\n",
       "  <tbody>\n",
       "    <tr>\n",
       "      <th>52579</th>\n",
       "      <td>52580</td>\n",
       "      <td>2015</td>\n",
       "      <td>12</td>\n",
       "      <td>31</td>\n",
       "      <td>19</td>\n",
       "      <td>4</td>\n",
       "      <td>140.0</td>\n",
       "      <td>157.0</td>\n",
       "      <td>122.0</td>\n",
       "      <td>133.0</td>\n",
       "      <td>...</td>\n",
       "      <td>-8.0</td>\n",
       "      <td>68.0</td>\n",
       "      <td>1031.0</td>\n",
       "      <td>-3.0</td>\n",
       "      <td>SE</td>\n",
       "      <td>7.14</td>\n",
       "      <td>0.0</td>\n",
       "      <td>0.0</td>\n",
       "      <td>140.0</td>\n",
       "      <td>137.333333</td>\n",
       "    </tr>\n",
       "    <tr>\n",
       "      <th>52580</th>\n",
       "      <td>52581</td>\n",
       "      <td>2015</td>\n",
       "      <td>12</td>\n",
       "      <td>31</td>\n",
       "      <td>20</td>\n",
       "      <td>4</td>\n",
       "      <td>157.0</td>\n",
       "      <td>199.0</td>\n",
       "      <td>149.0</td>\n",
       "      <td>169.0</td>\n",
       "      <td>...</td>\n",
       "      <td>-8.0</td>\n",
       "      <td>63.0</td>\n",
       "      <td>1030.0</td>\n",
       "      <td>-2.0</td>\n",
       "      <td>SE</td>\n",
       "      <td>8.03</td>\n",
       "      <td>0.0</td>\n",
       "      <td>0.0</td>\n",
       "      <td>157.0</td>\n",
       "      <td>172.333333</td>\n",
       "    </tr>\n",
       "    <tr>\n",
       "      <th>52581</th>\n",
       "      <td>52582</td>\n",
       "      <td>2015</td>\n",
       "      <td>12</td>\n",
       "      <td>31</td>\n",
       "      <td>21</td>\n",
       "      <td>4</td>\n",
       "      <td>171.0</td>\n",
       "      <td>231.0</td>\n",
       "      <td>196.0</td>\n",
       "      <td>203.0</td>\n",
       "      <td>...</td>\n",
       "      <td>-10.0</td>\n",
       "      <td>73.0</td>\n",
       "      <td>1030.0</td>\n",
       "      <td>-6.0</td>\n",
       "      <td>NE</td>\n",
       "      <td>0.89</td>\n",
       "      <td>0.0</td>\n",
       "      <td>0.0</td>\n",
       "      <td>171.0</td>\n",
       "      <td>210.000000</td>\n",
       "    </tr>\n",
       "    <tr>\n",
       "      <th>52582</th>\n",
       "      <td>52583</td>\n",
       "      <td>2015</td>\n",
       "      <td>12</td>\n",
       "      <td>31</td>\n",
       "      <td>22</td>\n",
       "      <td>4</td>\n",
       "      <td>204.0</td>\n",
       "      <td>242.0</td>\n",
       "      <td>221.0</td>\n",
       "      <td>212.0</td>\n",
       "      <td>...</td>\n",
       "      <td>-10.0</td>\n",
       "      <td>73.0</td>\n",
       "      <td>1030.0</td>\n",
       "      <td>-6.0</td>\n",
       "      <td>NE</td>\n",
       "      <td>1.78</td>\n",
       "      <td>0.0</td>\n",
       "      <td>0.0</td>\n",
       "      <td>204.0</td>\n",
       "      <td>225.000000</td>\n",
       "    </tr>\n",
       "    <tr>\n",
       "      <th>52583</th>\n",
       "      <td>52584</td>\n",
       "      <td>2015</td>\n",
       "      <td>12</td>\n",
       "      <td>31</td>\n",
       "      <td>23</td>\n",
       "      <td>4</td>\n",
       "      <td>NaN</td>\n",
       "      <td>NaN</td>\n",
       "      <td>NaN</td>\n",
       "      <td>235.0</td>\n",
       "      <td>...</td>\n",
       "      <td>-9.0</td>\n",
       "      <td>79.0</td>\n",
       "      <td>1029.0</td>\n",
       "      <td>-6.0</td>\n",
       "      <td>NE</td>\n",
       "      <td>2.67</td>\n",
       "      <td>0.0</td>\n",
       "      <td>0.0</td>\n",
       "      <td>NaN</td>\n",
       "      <td>235.000000</td>\n",
       "    </tr>\n",
       "  </tbody>\n",
       "</table>\n",
       "<p>5 rows × 21 columns</p>\n",
       "</div>"
      ],
      "text/plain": [
       "          No  year  month  day  hour  season  PM_Dongsi  PM_Dongsihuan  \\\n",
       "52579  52580  2015     12   31    19       4      140.0          157.0   \n",
       "52580  52581  2015     12   31    20       4      157.0          199.0   \n",
       "52581  52582  2015     12   31    21       4      171.0          231.0   \n",
       "52582  52583  2015     12   31    22       4      204.0          242.0   \n",
       "52583  52584  2015     12   31    23       4        NaN            NaN   \n",
       "\n",
       "       PM_Nongzhanguan  PM_US Post  ...  DEWP  HUMI    PRES  TEMP  cbwd   Iws  \\\n",
       "52579            122.0       133.0  ...  -8.0  68.0  1031.0  -3.0    SE  7.14   \n",
       "52580            149.0       169.0  ...  -8.0  63.0  1030.0  -2.0    SE  8.03   \n",
       "52581            196.0       203.0  ... -10.0  73.0  1030.0  -6.0    NE  0.89   \n",
       "52582            221.0       212.0  ... -10.0  73.0  1030.0  -6.0    NE  1.78   \n",
       "52583              NaN       235.0  ...  -9.0  79.0  1029.0  -6.0    NE  2.67   \n",
       "\n",
       "       precipitation  Iprec    东城区         朝阳区  \n",
       "52579            0.0    0.0  140.0  137.333333  \n",
       "52580            0.0    0.0  157.0  172.333333  \n",
       "52581            0.0    0.0  171.0  210.000000  \n",
       "52582            0.0    0.0  204.0  225.000000  \n",
       "52583            0.0    0.0    NaN  235.000000  \n",
       "\n",
       "[5 rows x 21 columns]"
      ]
     },
     "execution_count": 38,
     "metadata": {},
     "output_type": "execute_result"
    }
   ],
   "source": [
    "df_bj.tail(5)"
   ]
  },
  {
   "cell_type": "code",
   "execution_count": 39,
   "id": "547317bc",
   "metadata": {},
   "outputs": [],
   "source": [
    "df_bj_dc = df_bj['东城区'].groupby(df_bj['month']).mean()\n",
    "df_bj_cy = df_bj['朝阳区'].groupby(df_bj['month']).mean()"
   ]
  },
  {
   "cell_type": "code",
   "execution_count": 40,
   "id": "5e3eaab5",
   "metadata": {},
   "outputs": [
    {
     "data": {
      "text/plain": [
       "month\n",
       "1     111.663550\n",
       "2     118.332716\n",
       "3      95.037902\n",
       "4      82.092525\n",
       "5      76.260369\n",
       "6      89.963160\n",
       "7      89.033280\n",
       "8      74.971674\n",
       "9      77.598037\n",
       "10    112.496722\n",
       "11    110.136929\n",
       "12    108.664050\n",
       "Name: 朝阳区, dtype: float64"
      ]
     },
     "execution_count": 40,
     "metadata": {},
     "output_type": "execute_result"
    }
   ],
   "source": [
    "df_bj_cy"
   ]
  },
  {
   "cell_type": "code",
   "execution_count": 41,
   "id": "9d150ea8",
   "metadata": {
    "scrolled": false
   },
   "outputs": [
    {
     "data": {
      "text/plain": [
       "<matplotlib.legend.Legend at 0x26ad04eb610>"
      ]
     },
     "execution_count": 41,
     "metadata": {},
     "output_type": "execute_result"
    },
    {
     "data": {
      "image/png": "[encoded data removed]",
      "text/plain": [
       "<Figure size 640x480 with 1 Axes>"
      ]
     },
     "metadata": {},
     "output_type": "display_data"
    }
   ],
   "source": [
    "plt.figure()\n",
    "plt.plot(df_bj_dc,label='东城区')\n",
    "plt.plot(df_bj_cy,label='朝阳区')\n",
    "plt.xticks(range(1,13,1))\n",
    "plt.title('北京各区PM2.5月度变化图')\n",
    "plt.xlabel('月份')\n",
    "plt.ylabel('PM2.5指数（$\\mu g/m^3 $）')\n",
    "plt.legend(loc = 3)"
   ]
  },
  {
   "cell_type": "markdown",
   "id": "8072f49f",
   "metadata": {},
   "source": [
    "上海"
   ]
  },
  {
   "cell_type": "code",
   "execution_count": 42,
   "id": "896673ec",
   "metadata": {},
   "outputs": [
    {
     "data": {
      "text/html": [
       "<div>\n",
       "<style scoped>\n",
       "    .dataframe tbody tr th:only-of-type {\n",
       "        vertical-align: middle;\n",
       "    }\n",
       "\n",
       "    .dataframe tbody tr th {\n",
       "        vertical-align: top;\n",
       "    }\n",
       "\n",
       "    .dataframe thead th {\n",
       "        text-align: right;\n",
       "    }\n",
       "</style>\n",
       "<table border=\"1\" class=\"dataframe\">\n",
       "  <thead>\n",
       "    <tr style=\"text-align: right;\">\n",
       "      <th></th>\n",
       "      <th>No</th>\n",
       "      <th>year</th>\n",
       "      <th>month</th>\n",
       "      <th>day</th>\n",
       "      <th>hour</th>\n",
       "      <th>season</th>\n",
       "      <th>PM_Jingan</th>\n",
       "      <th>PM_US Post</th>\n",
       "      <th>PM_Xuhui</th>\n",
       "      <th>PM_mean</th>\n",
       "      <th>DEWP</th>\n",
       "      <th>HUMI</th>\n",
       "      <th>PRES</th>\n",
       "      <th>TEMP</th>\n",
       "      <th>cbwd</th>\n",
       "      <th>Iws</th>\n",
       "      <th>precipitation</th>\n",
       "      <th>Iprec</th>\n",
       "    </tr>\n",
       "  </thead>\n",
       "  <tbody>\n",
       "    <tr>\n",
       "      <th>0</th>\n",
       "      <td>1</td>\n",
       "      <td>2010</td>\n",
       "      <td>1</td>\n",
       "      <td>1</td>\n",
       "      <td>0</td>\n",
       "      <td>4</td>\n",
       "      <td>NaN</td>\n",
       "      <td>NaN</td>\n",
       "      <td>NaN</td>\n",
       "      <td>NaN</td>\n",
       "      <td>-6.0</td>\n",
       "      <td>59.48</td>\n",
       "      <td>1026.1</td>\n",
       "      <td>1.0</td>\n",
       "      <td>cv</td>\n",
       "      <td>1.0</td>\n",
       "      <td>0.0</td>\n",
       "      <td>0.0</td>\n",
       "    </tr>\n",
       "    <tr>\n",
       "      <th>1</th>\n",
       "      <td>2</td>\n",
       "      <td>2010</td>\n",
       "      <td>1</td>\n",
       "      <td>1</td>\n",
       "      <td>1</td>\n",
       "      <td>4</td>\n",
       "      <td>NaN</td>\n",
       "      <td>NaN</td>\n",
       "      <td>NaN</td>\n",
       "      <td>NaN</td>\n",
       "      <td>-6.0</td>\n",
       "      <td>59.48</td>\n",
       "      <td>1025.1</td>\n",
       "      <td>1.0</td>\n",
       "      <td>SE</td>\n",
       "      <td>2.0</td>\n",
       "      <td>0.0</td>\n",
       "      <td>0.0</td>\n",
       "    </tr>\n",
       "  </tbody>\n",
       "</table>\n",
       "</div>"
      ],
      "text/plain": [
       "   No  year  month  day  hour  season  PM_Jingan  PM_US Post  PM_Xuhui  \\\n",
       "0   1  2010      1    1     0       4        NaN         NaN       NaN   \n",
       "1   2  2010      1    1     1       4        NaN         NaN       NaN   \n",
       "\n",
       "   PM_mean  DEWP   HUMI    PRES  TEMP cbwd  Iws  precipitation  Iprec  \n",
       "0      NaN  -6.0  59.48  1026.1   1.0   cv  1.0            0.0    0.0  \n",
       "1      NaN  -6.0  59.48  1025.1   1.0   SE  2.0            0.0    0.0  "
      ]
     },
     "execution_count": 42,
     "metadata": {},
     "output_type": "execute_result"
    }
   ],
   "source": [
    "df_sh.head(2)"
   ]
  },
  {
   "cell_type": "code",
   "execution_count": 43,
   "id": "e0fac47b",
   "metadata": {},
   "outputs": [],
   "source": [
    "df_sh['静安区']=df_sh['PM_Jingan']\n",
    "df_sh['徐汇区']=df_sh.iloc[:,7:9].mean(axis=1)"
   ]
  },
  {
   "cell_type": "code",
   "execution_count": 44,
   "id": "c21807e7",
   "metadata": {},
   "outputs": [],
   "source": [
    "df_sh_ja = df_sh['静安区'].groupby(df_sh['month']).mean()\n",
    "df_sh_xh = df_sh['徐汇区'].groupby(df_sh['month']).mean()"
   ]
  },
  {
   "cell_type": "code",
   "execution_count": 45,
   "id": "bd76d610",
   "metadata": {},
   "outputs": [
    {
     "data": {
      "text/plain": [
       "<matplotlib.legend.Legend at 0x26ad05b8550>"
      ]
     },
     "execution_count": 45,
     "metadata": {},
     "output_type": "execute_result"
    },
    {
     "data": {
      "image/png": "[encoded data removed]",
      "text/plain": [
       "<Figure size 640x480 with 1 Axes>"
      ]
     },
     "metadata": {},
     "output_type": "display_data"
    }
   ],
   "source": [
    "plt.figure()\n",
    "plt.plot(df_sh_ja,label='静安区')\n",
    "plt.plot(df_sh_xh,label='徐汇区')\n",
    "plt.xticks(range(1,13,1))\n",
    "plt.title('上海各区PM2.5月度变化图')\n",
    "plt.xlabel('月份')\n",
    "plt.ylabel('PM2.5指数（$\\mu g/m^3 $）')\n",
    "plt.legend(loc = 3)"
   ]
  },
  {
   "cell_type": "code",
   "execution_count": null,
   "id": "ad897f6f",
   "metadata": {},
   "outputs": [],
   "source": []
  },
  {
   "cell_type": "markdown",
   "id": "906f3938",
   "metadata": {},
   "source": [
    "广州"
   ]
  },
  {
   "cell_type": "code",
   "execution_count": 46,
   "id": "164a6d49",
   "metadata": {},
   "outputs": [
    {
     "data": {
      "text/html": [
       "<div>\n",
       "<style scoped>\n",
       "    .dataframe tbody tr th:only-of-type {\n",
       "        vertical-align: middle;\n",
       "    }\n",
       "\n",
       "    .dataframe tbody tr th {\n",
       "        vertical-align: top;\n",
       "    }\n",
       "\n",
       "    .dataframe thead th {\n",
       "        text-align: right;\n",
       "    }\n",
       "</style>\n",
       "<table border=\"1\" class=\"dataframe\">\n",
       "  <thead>\n",
       "    <tr style=\"text-align: right;\">\n",
       "      <th></th>\n",
       "      <th>No</th>\n",
       "      <th>year</th>\n",
       "      <th>month</th>\n",
       "      <th>day</th>\n",
       "      <th>hour</th>\n",
       "      <th>season</th>\n",
       "      <th>PM_City Station</th>\n",
       "      <th>PM_5th Middle School</th>\n",
       "      <th>PM_US Post</th>\n",
       "      <th>PM_mean</th>\n",
       "      <th>DEWP</th>\n",
       "      <th>HUMI</th>\n",
       "      <th>PRES</th>\n",
       "      <th>TEMP</th>\n",
       "      <th>cbwd</th>\n",
       "      <th>Iws</th>\n",
       "      <th>precipitation</th>\n",
       "      <th>Iprec</th>\n",
       "    </tr>\n",
       "  </thead>\n",
       "  <tbody>\n",
       "    <tr>\n",
       "      <th>0</th>\n",
       "      <td>1</td>\n",
       "      <td>2010</td>\n",
       "      <td>1</td>\n",
       "      <td>1</td>\n",
       "      <td>0</td>\n",
       "      <td>4.0</td>\n",
       "      <td>NaN</td>\n",
       "      <td>NaN</td>\n",
       "      <td>NaN</td>\n",
       "      <td>NaN</td>\n",
       "      <td>9.4</td>\n",
       "      <td>76.0</td>\n",
       "      <td>1015.1</td>\n",
       "      <td>13.5</td>\n",
       "      <td>NW</td>\n",
       "      <td>0.8</td>\n",
       "      <td>0.0</td>\n",
       "      <td>0.0</td>\n",
       "    </tr>\n",
       "    <tr>\n",
       "      <th>1</th>\n",
       "      <td>2</td>\n",
       "      <td>2010</td>\n",
       "      <td>1</td>\n",
       "      <td>1</td>\n",
       "      <td>1</td>\n",
       "      <td>4.0</td>\n",
       "      <td>NaN</td>\n",
       "      <td>NaN</td>\n",
       "      <td>NaN</td>\n",
       "      <td>NaN</td>\n",
       "      <td>10.2</td>\n",
       "      <td>83.0</td>\n",
       "      <td>1015.2</td>\n",
       "      <td>13.0</td>\n",
       "      <td>cv</td>\n",
       "      <td>0.5</td>\n",
       "      <td>0.0</td>\n",
       "      <td>0.0</td>\n",
       "    </tr>\n",
       "  </tbody>\n",
       "</table>\n",
       "</div>"
      ],
      "text/plain": [
       "   No  year  month  day  hour  season  PM_City Station  PM_5th Middle School  \\\n",
       "0   1  2010      1    1     0     4.0              NaN                   NaN   \n",
       "1   2  2010      1    1     1     4.0              NaN                   NaN   \n",
       "\n",
       "   PM_US Post  PM_mean  DEWP  HUMI    PRES  TEMP cbwd  Iws  precipitation  \\\n",
       "0         NaN      NaN   9.4  76.0  1015.1  13.5   NW  0.8            0.0   \n",
       "1         NaN      NaN  10.2  83.0  1015.2  13.0   cv  0.5            0.0   \n",
       "\n",
       "   Iprec  \n",
       "0    0.0  \n",
       "1    0.0  "
      ]
     },
     "execution_count": 46,
     "metadata": {},
     "output_type": "execute_result"
    }
   ],
   "source": [
    "df_gz.head(2)"
   ]
  },
  {
   "cell_type": "code",
   "execution_count": 47,
   "id": "c592c2e6",
   "metadata": {},
   "outputs": [
    {
     "data": {
      "text/plain": [
       "0        False\n",
       "1        False\n",
       "2        False\n",
       "3        False\n",
       "4        False\n",
       "         ...  \n",
       "52579     True\n",
       "52580     True\n",
       "52581     True\n",
       "52582     True\n",
       "52583     True\n",
       "Length: 52584, dtype: bool"
      ]
     },
     "execution_count": 47,
     "metadata": {},
     "output_type": "execute_result"
    }
   ],
   "source": [
    "df_gz['PM_City Station']==df_gz['PM_US Post']"
   ]
  },
  {
   "cell_type": "code",
   "execution_count": 48,
   "id": "1d35ff27",
   "metadata": {},
   "outputs": [],
   "source": [
    "df_gz['黄埔区']=df_gz['PM_City Station']\n",
    "df_gz['海珠区']=df_gz['PM_5th Middle School']\n",
    "df_gz['天河区']=df_gz['PM_US Post']\n",
    "df_gz_hp = df_gz['黄埔区'].groupby(df_gz['month']).mean()\n",
    "df_gz_hz = df_gz['海珠区'].groupby(df_gz['month']).mean()\n",
    "df_gz_th = df_gz['天河区'].groupby(df_gz['month']).mean()"
   ]
  },
  {
   "cell_type": "code",
   "execution_count": 49,
   "id": "7e62b299",
   "metadata": {},
   "outputs": [
    {
     "data": {
      "text/plain": [
       "<matplotlib.legend.Legend at 0x26ad07cc6a0>"
      ]
     },
     "execution_count": 49,
     "metadata": {},
     "output_type": "execute_result"
    },
    {
     "data": {
      "image/png": "[encoded data removed]",
      "text/plain": [
       "<Figure size 640x480 with 1 Axes>"
      ]
     },
     "metadata": {},
     "output_type": "display_data"
    }
   ],
   "source": [
    "plt.figure()\n",
    "plt.plot(df_gz_hp,label='黄埔区')\n",
    "plt.plot(df_gz_hz,label='海珠区')\n",
    "plt.plot(df_gz_th,label='天河区')\n",
    "plt.xticks(range(1,13,1))\n",
    "plt.title('广州各区PM2.5月度变化图')\n",
    "plt.xlabel('月份')\n",
    "plt.ylabel('PM2.5指数（$\\mu g/m^3 $）')\n",
    "plt.legend(loc = 3)"
   ]
  },
  {
   "cell_type": "markdown",
   "id": "4188429f",
   "metadata": {},
   "source": [
    "成都"
   ]
  },
  {
   "cell_type": "code",
   "execution_count": 50,
   "id": "3f7db0f3",
   "metadata": {},
   "outputs": [
    {
     "data": {
      "text/html": [
       "<div>\n",
       "<style scoped>\n",
       "    .dataframe tbody tr th:only-of-type {\n",
       "        vertical-align: middle;\n",
       "    }\n",
       "\n",
       "    .dataframe tbody tr th {\n",
       "        vertical-align: top;\n",
       "    }\n",
       "\n",
       "    .dataframe thead th {\n",
       "        text-align: right;\n",
       "    }\n",
       "</style>\n",
       "<table border=\"1\" class=\"dataframe\">\n",
       "  <thead>\n",
       "    <tr style=\"text-align: right;\">\n",
       "      <th></th>\n",
       "      <th>No</th>\n",
       "      <th>year</th>\n",
       "      <th>month</th>\n",
       "      <th>day</th>\n",
       "      <th>hour</th>\n",
       "      <th>season</th>\n",
       "      <th>PM_Caotangsi</th>\n",
       "      <th>PM_Shahepu</th>\n",
       "      <th>PM_US Post</th>\n",
       "      <th>PM_mean</th>\n",
       "      <th>DEWP</th>\n",
       "      <th>HUMI</th>\n",
       "      <th>PRES</th>\n",
       "      <th>TEMP</th>\n",
       "      <th>cbwd</th>\n",
       "      <th>Iws</th>\n",
       "      <th>precipitation</th>\n",
       "      <th>Iprec</th>\n",
       "    </tr>\n",
       "  </thead>\n",
       "  <tbody>\n",
       "    <tr>\n",
       "      <th>0</th>\n",
       "      <td>1</td>\n",
       "      <td>2010</td>\n",
       "      <td>1</td>\n",
       "      <td>1</td>\n",
       "      <td>0</td>\n",
       "      <td>4</td>\n",
       "      <td>NaN</td>\n",
       "      <td>NaN</td>\n",
       "      <td>NaN</td>\n",
       "      <td>NaN</td>\n",
       "      <td>4.0</td>\n",
       "      <td>81.20</td>\n",
       "      <td>1022.0</td>\n",
       "      <td>7.0</td>\n",
       "      <td>cv</td>\n",
       "      <td>1.0</td>\n",
       "      <td>0.0</td>\n",
       "      <td>0.0</td>\n",
       "    </tr>\n",
       "    <tr>\n",
       "      <th>1</th>\n",
       "      <td>2</td>\n",
       "      <td>2010</td>\n",
       "      <td>1</td>\n",
       "      <td>1</td>\n",
       "      <td>1</td>\n",
       "      <td>4</td>\n",
       "      <td>NaN</td>\n",
       "      <td>NaN</td>\n",
       "      <td>NaN</td>\n",
       "      <td>NaN</td>\n",
       "      <td>4.0</td>\n",
       "      <td>86.99</td>\n",
       "      <td>1022.0</td>\n",
       "      <td>6.0</td>\n",
       "      <td>cv</td>\n",
       "      <td>1.0</td>\n",
       "      <td>0.0</td>\n",
       "      <td>0.0</td>\n",
       "    </tr>\n",
       "  </tbody>\n",
       "</table>\n",
       "</div>"
      ],
      "text/plain": [
       "   No  year  month  day  hour  season  PM_Caotangsi  PM_Shahepu  PM_US Post  \\\n",
       "0   1  2010      1    1     0       4           NaN         NaN         NaN   \n",
       "1   2  2010      1    1     1       4           NaN         NaN         NaN   \n",
       "\n",
       "   PM_mean  DEWP   HUMI    PRES  TEMP cbwd  Iws  precipitation  Iprec  \n",
       "0      NaN   4.0  81.20  1022.0   7.0   cv  1.0            0.0    0.0  \n",
       "1      NaN   4.0  86.99  1022.0   6.0   cv  1.0            0.0    0.0  "
      ]
     },
     "execution_count": 50,
     "metadata": {},
     "output_type": "execute_result"
    }
   ],
   "source": [
    "df_cd.head(2)"
   ]
  },
  {
   "cell_type": "code",
   "execution_count": 51,
   "id": "84d47659",
   "metadata": {},
   "outputs": [],
   "source": [
    "df_cd['青羊区']=df_cd['PM_Caotangsi']\n",
    "df_cd['锦江区']=df_cd['PM_Shahepu']\n",
    "df_cd['武侯区']=df_cd['PM_US Post']\n",
    "df_cd_qy = df_cd['青羊区'].groupby(df_cd['month']).mean()\n",
    "df_cd_jj = df_cd['锦江区'].groupby(df_cd['month']).mean()\n",
    "df_cd_wh = df_cd['武侯区'].groupby(df_cd['month']).mean()"
   ]
  },
  {
   "cell_type": "code",
   "execution_count": 52,
   "id": "d11412c8",
   "metadata": {},
   "outputs": [
    {
     "data": {
      "text/plain": [
       "<matplotlib.legend.Legend at 0x26ad080e790>"
      ]
     },
     "execution_count": 52,
     "metadata": {},
     "output_type": "execute_result"
    },
    {
     "data": {
      "image/png": "[encoded data removed]",
      "text/plain": [
       "<Figure size 640x480 with 1 Axes>"
      ]
     },
     "metadata": {},
     "output_type": "display_data"
    }
   ],
   "source": [
    "plt.figure()\n",
    "plt.plot(df_cd_qy,label='青羊区')\n",
    "plt.plot(df_cd_jj,label='锦江区')\n",
    "plt.plot(df_cd_wh,label='武侯区')\n",
    "plt.xticks(range(1,13,1))\n",
    "plt.title('成都各区PM2.5月度变化图')\n",
    "plt.xlabel('月份')\n",
    "plt.ylabel('PM2.5指数（$\\mu g/m^3 $）')\n",
    "plt.legend(loc = 3)"
   ]
  },
  {
   "cell_type": "markdown",
   "id": "2d9f0b92",
   "metadata": {},
   "source": [
    "沈阳"
   ]
  },
  {
   "cell_type": "code",
   "execution_count": 53,
   "id": "8163e99d",
   "metadata": {},
   "outputs": [
    {
     "data": {
      "text/html": [
       "<div>\n",
       "<style scoped>\n",
       "    .dataframe tbody tr th:only-of-type {\n",
       "        vertical-align: middle;\n",
       "    }\n",
       "\n",
       "    .dataframe tbody tr th {\n",
       "        vertical-align: top;\n",
       "    }\n",
       "\n",
       "    .dataframe thead th {\n",
       "        text-align: right;\n",
       "    }\n",
       "</style>\n",
       "<table border=\"1\" class=\"dataframe\">\n",
       "  <thead>\n",
       "    <tr style=\"text-align: right;\">\n",
       "      <th></th>\n",
       "      <th>No</th>\n",
       "      <th>year</th>\n",
       "      <th>month</th>\n",
       "      <th>day</th>\n",
       "      <th>hour</th>\n",
       "      <th>season</th>\n",
       "      <th>PM_Taiyuanjie</th>\n",
       "      <th>PM_US Post</th>\n",
       "      <th>PM_Xiaoheyan</th>\n",
       "      <th>PM_mean</th>\n",
       "      <th>DEWP</th>\n",
       "      <th>HUMI</th>\n",
       "      <th>PRES</th>\n",
       "      <th>TEMP</th>\n",
       "      <th>cbwd</th>\n",
       "      <th>Iws</th>\n",
       "      <th>precipitation</th>\n",
       "      <th>Iprec</th>\n",
       "    </tr>\n",
       "  </thead>\n",
       "  <tbody>\n",
       "    <tr>\n",
       "      <th>0</th>\n",
       "      <td>1</td>\n",
       "      <td>2010</td>\n",
       "      <td>1</td>\n",
       "      <td>1</td>\n",
       "      <td>0</td>\n",
       "      <td>4</td>\n",
       "      <td>NaN</td>\n",
       "      <td>NaN</td>\n",
       "      <td>NaN</td>\n",
       "      <td>NaN</td>\n",
       "      <td>-26.0</td>\n",
       "      <td>69.79</td>\n",
       "      <td>1024.0</td>\n",
       "      <td>-22.0</td>\n",
       "      <td>NE</td>\n",
       "      <td>1.0289</td>\n",
       "      <td>NaN</td>\n",
       "      <td>NaN</td>\n",
       "    </tr>\n",
       "    <tr>\n",
       "      <th>1</th>\n",
       "      <td>2</td>\n",
       "      <td>2010</td>\n",
       "      <td>1</td>\n",
       "      <td>1</td>\n",
       "      <td>1</td>\n",
       "      <td>4</td>\n",
       "      <td>NaN</td>\n",
       "      <td>NaN</td>\n",
       "      <td>NaN</td>\n",
       "      <td>NaN</td>\n",
       "      <td>-26.0</td>\n",
       "      <td>76.26</td>\n",
       "      <td>1024.0</td>\n",
       "      <td>-23.0</td>\n",
       "      <td>NE</td>\n",
       "      <td>2.5722</td>\n",
       "      <td>NaN</td>\n",
       "      <td>NaN</td>\n",
       "    </tr>\n",
       "  </tbody>\n",
       "</table>\n",
       "</div>"
      ],
      "text/plain": [
       "   No  year  month  day  hour  season  PM_Taiyuanjie  PM_US Post  \\\n",
       "0   1  2010      1    1     0       4            NaN         NaN   \n",
       "1   2  2010      1    1     1       4            NaN         NaN   \n",
       "\n",
       "   PM_Xiaoheyan  PM_mean  DEWP   HUMI    PRES  TEMP cbwd     Iws  \\\n",
       "0           NaN      NaN -26.0  69.79  1024.0 -22.0   NE  1.0289   \n",
       "1           NaN      NaN -26.0  76.26  1024.0 -23.0   NE  2.5722   \n",
       "\n",
       "   precipitation  Iprec  \n",
       "0            NaN    NaN  \n",
       "1            NaN    NaN  "
      ]
     },
     "execution_count": 53,
     "metadata": {},
     "output_type": "execute_result"
    }
   ],
   "source": [
    "df_sy.head(2)"
   ]
  },
  {
   "cell_type": "code",
   "execution_count": 54,
   "id": "5e40becf",
   "metadata": {},
   "outputs": [],
   "source": [
    "df_sy['和平区']=df_sy.iloc[:,6:8].mean(axis=1)\n",
    "df_sy['沈河区']=df_sy['PM_Xiaoheyan']\n",
    "df_sy_hp = df_sy['和平区'].groupby(df_sy['month']).mean()\n",
    "df_sy_sh = df_sy['沈河区'].groupby(df_sy['month']).mean()"
   ]
  },
  {
   "cell_type": "code",
   "execution_count": 55,
   "id": "7dbfab14",
   "metadata": {},
   "outputs": [
    {
     "data": {
      "text/plain": [
       "<matplotlib.legend.Legend at 0x26ad09aa370>"
      ]
     },
     "execution_count": 55,
     "metadata": {},
     "output_type": "execute_result"
    },
    {
     "data": {
      "image/png": "[encoded data removed]",
      "text/plain": [
       "<Figure size 640x480 with 1 Axes>"
      ]
     },
     "metadata": {},
     "output_type": "display_data"
    }
   ],
   "source": [
    "plt.figure()\n",
    "plt.plot(df_sy_hp,label='和平区')\n",
    "plt.plot(df_sy_sh,label='沈河区')\n",
    "plt.xticks(range(1,13,1))\n",
    "plt.title('沈阳各区PM2.5月度变化图')\n",
    "plt.xlabel('月份')\n",
    "plt.ylabel('PM2.5指数（$\\mu g/m^3 $）')\n",
    "plt.legend(loc = 3)"
   ]
  },
  {
   "cell_type": "markdown",
   "id": "e6139ebc",
   "metadata": {},
   "source": [
    "# 3.4统计每个城市每天的平均PM2.5的数值"
   ]
  },
  {
   "cell_type": "code",
   "execution_count": 56,
   "id": "73a3eed4",
   "metadata": {},
   "outputs": [
    {
     "data": {
      "text/plain": [
       "[Text(0, 0, '95.1836'),\n",
       " Text(0, 0, '54.8389'),\n",
       " Text(0, 0, '51.131'),\n",
       " Text(0, 0, '79.8612'),\n",
       " Text(0, 0, '78.5098')]"
      ]
     },
     "execution_count": 56,
     "metadata": {},
     "output_type": "execute_result"
    },
    {
     "data": {
      "image/png": "[encoded data removed]",
      "text/plain": [
       "<Figure size 640x480 with 1 Axes>"
      ]
     },
     "metadata": {},
     "output_type": "display_data"
    }
   ],
   "source": [
    "fig = plt.figure()\n",
    "labels = ['北京','上海','广州','成都','沈阳']\n",
    "x=np.arange(5)\n",
    "day_mean_np = np.append(bj_pm_mean.values,sh_pm_mean.values)\n",
    "day_mean_np = np.append(day_mean_np,gz_pm_mean.values)\n",
    "day_mean_np = np.append(day_mean_np,cd_pm_mean.values)\n",
    "day_mean_np = np.append(day_mean_np,sy_pm_mean.values)\n",
    "day_mean_np \n",
    "bar = plt.bar(labels,day_mean_np,width = 0.4)\n",
    "plt.title(\"五城市PM2.5日均值\")\n",
    "plt.yticks(range(0,140,20))\n",
    "plt.ylabel(\"PM2.5指数（$\\mu g/m^3 $）\")\n",
    "plt.xlabel(\"城市\")\n",
    "plt.bar_label(bar)#显示每组数据数值\n",
    "#plt.bar(x,[bj_pm_mean.values.astype(float),sh_pm_mean.values.astype(float),gz_pm_mean.values.astype(float),cd_pm_mean.values.astype(float),sy_pm_mean.values.astype(float)])"
   ]
  },
  {
   "cell_type": "code",
   "execution_count": 57,
   "id": "31e8729f",
   "metadata": {},
   "outputs": [],
   "source": [
    "#创建折线图对象\n",
    "#line = Line()\n",
    "#line.add_xaxis(xaxis_data = [''.format(i,'年') for i in range(2010,2016)])\n",
    "#line.add_yaxis([['北京',bj_year_pm_mean],['上海',sh_year_pm_mean],['广州',gz_year_pm_mean],['成都',cd_year_pm_mean],['沈阳',sy_year_pm_mean]])\n",
    "#line.render_notebook()xx"
   ]
  },
  {
   "cell_type": "code",
   "execution_count": 58,
   "id": "ad9246f8",
   "metadata": {},
   "outputs": [
    {
     "data": {
      "text/plain": [
       "<matplotlib.legend.Legend at 0x26ad1514940>"
      ]
     },
     "execution_count": 58,
     "metadata": {},
     "output_type": "execute_result"
    },
    {
     "data": {
      "image/png": "[encoded data removed]",
      "text/plain": [
       "<Figure size 640x480 with 1 Axes>"
      ]
     },
     "metadata": {},
     "output_type": "display_data"
    }
   ],
   "source": [
    "fig=plt.figure()\n",
    "plt.rcParams['font.sans-serif'] = ['Microsoft YaHei']\n",
    "\n",
    "plt.plot(bj_year_pm_mean.index,bj_year_pm_mean,label='北京')\n",
    "plt.plot(bj_year_pm_mean.index,sh_year_pm_mean,label='上海')\n",
    "plt.plot(bj_year_pm_mean.index,gz_year_pm_mean,label='广州')\n",
    "plt.plot(bj_year_pm_mean.index,cd_year_pm_mean,label='成都')\n",
    "plt.plot(sy_year_pm_mean.index,sy_year_pm_mean,label='沈阳')\n",
    "plt.xlabel('年份')\n",
    "plt.ylabel('PM2.5指数（$\\mu g/m^3 $）')\n",
    "plt.title('北上广成沈五城市2010-2015年PM2.5指数变化图')\n",
    "plt.grid(axis='y')\n",
    "plt.yticks(range(40,110,5))\n",
    "plt.legend()"
   ]
  },
  {
   "cell_type": "markdown",
   "id": "cae89ba0",
   "metadata": {},
   "source": [
    "# 3.5基于天数对比中国环保部和美国驻华大使馆统计的污染状态"
   ]
  },
  {
   "cell_type": "code",
   "execution_count": 59,
   "id": "dbd0e7af",
   "metadata": {},
   "outputs": [
    {
     "data": {
      "text/html": [
       "<div>\n",
       "<style scoped>\n",
       "    .dataframe tbody tr th:only-of-type {\n",
       "        vertical-align: middle;\n",
       "    }\n",
       "\n",
       "    .dataframe tbody tr th {\n",
       "        vertical-align: top;\n",
       "    }\n",
       "\n",
       "    .dataframe thead th {\n",
       "        text-align: right;\n",
       "    }\n",
       "</style>\n",
       "<table border=\"1\" class=\"dataframe\">\n",
       "  <thead>\n",
       "    <tr style=\"text-align: right;\">\n",
       "      <th></th>\n",
       "      <th>No</th>\n",
       "      <th>year</th>\n",
       "      <th>month</th>\n",
       "      <th>day</th>\n",
       "      <th>hour</th>\n",
       "      <th>season</th>\n",
       "      <th>PM_Jingan</th>\n",
       "      <th>PM_US Post</th>\n",
       "      <th>PM_Xuhui</th>\n",
       "      <th>PM_mean</th>\n",
       "      <th>DEWP</th>\n",
       "      <th>HUMI</th>\n",
       "      <th>PRES</th>\n",
       "      <th>TEMP</th>\n",
       "      <th>cbwd</th>\n",
       "      <th>Iws</th>\n",
       "      <th>precipitation</th>\n",
       "      <th>Iprec</th>\n",
       "      <th>静安区</th>\n",
       "      <th>徐汇区</th>\n",
       "    </tr>\n",
       "  </thead>\n",
       "  <tbody>\n",
       "    <tr>\n",
       "      <th>0</th>\n",
       "      <td>1</td>\n",
       "      <td>2010</td>\n",
       "      <td>1</td>\n",
       "      <td>1</td>\n",
       "      <td>0</td>\n",
       "      <td>4</td>\n",
       "      <td>NaN</td>\n",
       "      <td>NaN</td>\n",
       "      <td>NaN</td>\n",
       "      <td>NaN</td>\n",
       "      <td>-6.0</td>\n",
       "      <td>59.48</td>\n",
       "      <td>1026.1</td>\n",
       "      <td>1.0</td>\n",
       "      <td>cv</td>\n",
       "      <td>1.0</td>\n",
       "      <td>0.0</td>\n",
       "      <td>0.0</td>\n",
       "      <td>NaN</td>\n",
       "      <td>NaN</td>\n",
       "    </tr>\n",
       "    <tr>\n",
       "      <th>1</th>\n",
       "      <td>2</td>\n",
       "      <td>2010</td>\n",
       "      <td>1</td>\n",
       "      <td>1</td>\n",
       "      <td>1</td>\n",
       "      <td>4</td>\n",
       "      <td>NaN</td>\n",
       "      <td>NaN</td>\n",
       "      <td>NaN</td>\n",
       "      <td>NaN</td>\n",
       "      <td>-6.0</td>\n",
       "      <td>59.48</td>\n",
       "      <td>1025.1</td>\n",
       "      <td>1.0</td>\n",
       "      <td>SE</td>\n",
       "      <td>2.0</td>\n",
       "      <td>0.0</td>\n",
       "      <td>0.0</td>\n",
       "      <td>NaN</td>\n",
       "      <td>NaN</td>\n",
       "    </tr>\n",
       "  </tbody>\n",
       "</table>\n",
       "</div>"
      ],
      "text/plain": [
       "   No  year  month  day  hour  season  PM_Jingan  PM_US Post  PM_Xuhui  \\\n",
       "0   1  2010      1    1     0       4        NaN         NaN       NaN   \n",
       "1   2  2010      1    1     1       4        NaN         NaN       NaN   \n",
       "\n",
       "   PM_mean  DEWP   HUMI    PRES  TEMP cbwd  Iws  precipitation  Iprec  静安区  \\\n",
       "0      NaN  -6.0  59.48  1026.1   1.0   cv  1.0            0.0    0.0  NaN   \n",
       "1      NaN  -6.0  59.48  1025.1   1.0   SE  2.0            0.0    0.0  NaN   \n",
       "\n",
       "   徐汇区  \n",
       "0  NaN  \n",
       "1  NaN  "
      ]
     },
     "execution_count": 59,
     "metadata": {},
     "output_type": "execute_result"
    }
   ],
   "source": [
    "#添加数据列：中国环保部\n",
    "df_bj.head(2)\n",
    "df_sh.head(2)\n"
   ]
  },
  {
   "cell_type": "code",
   "execution_count": 60,
   "id": "6c4198d6",
   "metadata": {},
   "outputs": [],
   "source": [
    "#编写函数，统计各污染状态天数\n",
    "def num_pol_level(data_arr):\n",
    "    level_A = data_arr[data_arr <= 75].shape[0]\n",
    "    level_B = data_arr[data_arr > 75].shape[0]\n",
    "    levels = np.array([level_A, level_B])\n",
    "    return levels"
   ]
  },
  {
   "cell_type": "code",
   "execution_count": 61,
   "id": "398e2c17",
   "metadata": {},
   "outputs": [],
   "source": [
    "#添加新列，中国统计数据\n",
    "df_bj['PM_CN']=df_bj.iloc[:,6:9].mean(axis=1)\n",
    "df_sh['PM_CN']=df_sh.iloc[:,[6,8]].mean(axis=1)\n",
    "df_gz['PM_CN']=df_gz.iloc[:,6:8].mean(axis=1)\n",
    "df_cd['PM_CN']=df_cd.iloc[:,6:8].mean(axis=1)\n",
    "df_sy['PM_CN']=df_sy.iloc[:,[6,8]].mean(axis=1)"
   ]
  },
  {
   "cell_type": "code",
   "execution_count": 62,
   "id": "d9562425",
   "metadata": {},
   "outputs": [],
   "source": [
    "#按天分组\n",
    "day_bj = df_bj.groupby(['year','month','day']).mean()\n",
    "day_sh = df_sh.groupby(['year','month','day']).mean()\n",
    "day_gz = df_gz.groupby(['year','month','day']).mean()\n",
    "day_cd = df_cd.groupby(['year','month','day']).mean()\n",
    "day_sy = df_sy.groupby(['year','month','day']).mean()"
   ]
  },
  {
   "cell_type": "code",
   "execution_count": 63,
   "id": "bc767a02",
   "metadata": {},
   "outputs": [],
   "source": [
    "bj_cn = num_pol_level(day_bj['PM_CN'])\n",
    "sh_cn = num_pol_level(day_sh['PM_CN'])\n",
    "gz_cn = num_pol_level(day_gz['PM_CN'])\n",
    "cd_cn = num_pol_level(day_cd['PM_CN'])\n",
    "sy_cn = num_pol_level(day_sy['PM_CN'])\n",
    "bj_us = num_pol_level(day_bj['PM_US Post'])\n",
    "sh_us = num_pol_level(day_sh['PM_US Post'])\n",
    "gz_us = num_pol_level(day_gz['PM_US Post'])\n",
    "cd_us = num_pol_level(day_cd['PM_US Post'])\n",
    "sy_us = num_pol_level(day_sy['PM_US Post'])"
   ]
  },
  {
   "cell_type": "code",
   "execution_count": 64,
   "id": "7262600a",
   "metadata": {},
   "outputs": [
    {
     "data": {
      "text/plain": [
       "array([831, 264])"
      ]
     },
     "execution_count": 64,
     "metadata": {},
     "output_type": "execute_result"
    }
   ],
   "source": [
    "sh_cn"
   ]
  },
  {
   "cell_type": "code",
   "execution_count": 65,
   "id": "6ffc3003",
   "metadata": {},
   "outputs": [
    {
     "data": {
      "text/plain": [
       "array([584, 495])"
      ]
     },
     "execution_count": 65,
     "metadata": {},
     "output_type": "execute_result"
    }
   ],
   "source": [
    "bj_cn"
   ]
  },
  {
   "cell_type": "code",
   "execution_count": 66,
   "id": "c6c65a59",
   "metadata": {},
   "outputs": [],
   "source": [
    "df_cn = pd.DataFrame(bj_cn,columns=['北京'])"
   ]
  },
  {
   "cell_type": "code",
   "execution_count": 67,
   "id": "1b1c5855",
   "metadata": {},
   "outputs": [],
   "source": [
    "df_cn.insert(1,'上海',sh_cn)\n",
    "df_cn.insert(2,'广州',gz_cn)\n",
    "df_cn.insert(3,'成都',cd_cn)\n",
    "df_cn.insert(4,'沈阳',sy_cn)"
   ]
  },
  {
   "cell_type": "code",
   "execution_count": 68,
   "id": "7aaad467",
   "metadata": {},
   "outputs": [
    {
     "data": {
      "text/html": [
       "<div>\n",
       "<style scoped>\n",
       "    .dataframe tbody tr th:only-of-type {\n",
       "        vertical-align: middle;\n",
       "    }\n",
       "\n",
       "    .dataframe tbody tr th {\n",
       "        vertical-align: top;\n",
       "    }\n",
       "\n",
       "    .dataframe thead th {\n",
       "        text-align: right;\n",
       "    }\n",
       "</style>\n",
       "<table border=\"1\" class=\"dataframe\">\n",
       "  <thead>\n",
       "    <tr style=\"text-align: right;\">\n",
       "      <th></th>\n",
       "      <th>北京</th>\n",
       "      <th>上海</th>\n",
       "      <th>广州</th>\n",
       "      <th>成都</th>\n",
       "      <th>沈阳</th>\n",
       "    </tr>\n",
       "  </thead>\n",
       "  <tbody>\n",
       "    <tr>\n",
       "      <th>0</th>\n",
       "      <td>584</td>\n",
       "      <td>831</td>\n",
       "      <td>1159</td>\n",
       "      <td>679</td>\n",
       "      <td>691</td>\n",
       "    </tr>\n",
       "    <tr>\n",
       "      <th>1</th>\n",
       "      <td>495</td>\n",
       "      <td>264</td>\n",
       "      <td>257</td>\n",
       "      <td>414</td>\n",
       "      <td>398</td>\n",
       "    </tr>\n",
       "  </tbody>\n",
       "</table>\n",
       "</div>"
      ],
      "text/plain": [
       "    北京   上海    广州   成都   沈阳\n",
       "0  584  831  1159  679  691\n",
       "1  495  264   257  414  398"
      ]
     },
     "execution_count": 68,
     "metadata": {},
     "output_type": "execute_result"
    }
   ],
   "source": [
    "df_cn"
   ]
  },
  {
   "cell_type": "code",
   "execution_count": 69,
   "id": "eaf01764",
   "metadata": {},
   "outputs": [],
   "source": [
    "df_us = pd.DataFrame(bj_us,columns=['北京'])"
   ]
  },
  {
   "cell_type": "code",
   "execution_count": 70,
   "id": "2a4b453e",
   "metadata": {},
   "outputs": [],
   "source": [
    "df_us.insert(1,'上海',sh_us)\n",
    "df_us.insert(2,'广州',gz_us)\n",
    "df_us.insert(3,'成都',cd_us)\n",
    "df_us.insert(4,'沈阳',sy_us)"
   ]
  },
  {
   "cell_type": "code",
   "execution_count": 71,
   "id": "698a1f71",
   "metadata": {},
   "outputs": [
    {
     "data": {
      "text/html": [
       "<div>\n",
       "<style scoped>\n",
       "    .dataframe tbody tr th:only-of-type {\n",
       "        vertical-align: middle;\n",
       "    }\n",
       "\n",
       "    .dataframe tbody tr th {\n",
       "        vertical-align: top;\n",
       "    }\n",
       "\n",
       "    .dataframe thead th {\n",
       "        text-align: right;\n",
       "    }\n",
       "</style>\n",
       "<table border=\"1\" class=\"dataframe\">\n",
       "  <thead>\n",
       "    <tr style=\"text-align: right;\">\n",
       "      <th></th>\n",
       "      <th>北京</th>\n",
       "      <th>上海</th>\n",
       "      <th>广州</th>\n",
       "      <th>成都</th>\n",
       "      <th>沈阳</th>\n",
       "    </tr>\n",
       "  </thead>\n",
       "  <tbody>\n",
       "    <tr>\n",
       "      <th>0</th>\n",
       "      <td>1078</td>\n",
       "      <td>1173</td>\n",
       "      <td>1139</td>\n",
       "      <td>697</td>\n",
       "      <td>592</td>\n",
       "    </tr>\n",
       "    <tr>\n",
       "      <th>1</th>\n",
       "      <td>1077</td>\n",
       "      <td>282</td>\n",
       "      <td>258</td>\n",
       "      <td>549</td>\n",
       "      <td>341</td>\n",
       "    </tr>\n",
       "  </tbody>\n",
       "</table>\n",
       "</div>"
      ],
      "text/plain": [
       "     北京    上海    广州   成都   沈阳\n",
       "0  1078  1173  1139  697  592\n",
       "1  1077   282   258  549  341"
      ]
     },
     "execution_count": 71,
     "metadata": {},
     "output_type": "execute_result"
    }
   ],
   "source": [
    "df_us"
   ]
  },
  {
   "cell_type": "code",
   "execution_count": 72,
   "id": "59028559",
   "metadata": {},
   "outputs": [
    {
     "data": {
      "text/plain": [
       "<matplotlib.legend.Legend at 0x26ad0c18be0>"
      ]
     },
     "execution_count": 72,
     "metadata": {},
     "output_type": "execute_result"
    },
    {
     "data": {
      "image/png": "[encoded data removed]",
      "text/plain": [
       "<Figure size 640x480 with 1 Axes>"
      ]
     },
     "metadata": {},
     "output_type": "display_data"
    }
   ],
   "source": [
    "plt.figure()\n",
    "x = np.arange(1,6)\n",
    "plt.bar(x-0.15,df_cn.iloc[0,:],color = 'mediumspringgreen',width=0.3,label='中国：优良')\n",
    "plt.bar(x-0.15,df_cn.iloc[1,:],color = 'orange',bottom =df_cn.iloc[0,:],width=0.3,label='中国：污染' )\n",
    "plt.bar(x+0.15,df_us.iloc[0,:],color = 'aquamarine',width=0.3,label='美国：优良')\n",
    "plt.bar(x+0.15,df_us.iloc[0,:],color = 'gold',bottom=df_us.iloc[0,:],width=0.3,label='美国：污染')\n",
    "plt.xticks(x,['北京','上海','广州','成都','沈阳'])\n",
    "plt.title('基于天数的中美两国污染状态统计对比')\n",
    "plt.xlabel('城市')\n",
    "plt.ylabel('天数')\n",
    "plt.legend()"
   ]
  }
 ],
 "metadata": {
  "kernelspec": {
   "display_name": "Python 3 (ipykernel)",
   "language": "python",
   "name": "python3"
  },
  "language_info": {
   "codemirror_mode": {
    "name": "ipython",
    "version": 3
   },
   "file_extension": ".py",
   "mimetype": "text/x-python",
   "name": "python",
   "nbconvert_exporter": "python",
   "pygments_lexer": "ipython3",
   "version": "3.9.13"
  }
 },
 "nbformat": 4,
 "nbformat_minor": 5
}
